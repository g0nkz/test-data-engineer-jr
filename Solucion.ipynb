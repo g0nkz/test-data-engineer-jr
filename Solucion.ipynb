{
  "nbformat": 4,
  "nbformat_minor": 0,
  "metadata": {
    "colab": {
      "name": "Solucion0.ipynb",
      "provenance": [],
      "collapsed_sections": []
    },
    "kernelspec": {
      "name": "python3",
      "display_name": "Python 3"
    },
    "language_info": {
      "name": "python"
    }
  },
  "cells": [
    {
      "cell_type": "markdown",
      "metadata": {
        "id": "1dSwllCggCAy"
      },
      "source": [
        "#**Solución propuesta al ejercicio práctico para la posición de Data Engineer Jr en Deacero.**"
      ]
    },
    {
      "cell_type": "markdown",
      "metadata": {
        "id": "UbkoW8wFiHX5"
      },
      "source": [
        "## Citando el problema\n",
        "\n",
        "```\n",
        "# Ejercicio práctico para Data Engineer Jr en Deacero.\n",
        "\n",
        "Debe realizar un fork de este repositorio para desarrollar y entregar su trabajo.\n",
        "\n",
        "1. Obtén los datos de las siguientes fuentes desde las apis:\n",
        "\n",
        "| Dataset                   | Url                                                               |\n",
        "| ------------------------- | ----------------------------------------------------------------- |\n",
        "| Lista Pasajeros 2016      | http://analytics.deacero.com/Api/GetApi/ApiPasajeros2016/api_key  |\n",
        "| Lista Pasajeros 2017      | http://analytics.deacero.com/Api/GetApi/ApiPasajeros2017/api_key  |\n",
        "| Lista Viajes 2016         | http://analytics.deacero.com/Api/GetApi/ApiVuelos2016/api_key     |\n",
        "| Lista Viajes 2017         | http://analytics.deacero.com/Api/GetApi/ApiVuelos2017/api_key     |\n",
        "| Lista Aerolíneas          | http://analytics.deacero.com/Api/GetApi/ApiLineaAerea/api_key     |\n",
        "\n",
        "  Nota: El api_key válido se proporciona por correo. En caso de estar interesado en aplicar al test puede enviar correo a <jguerrero@deacero.com>\n",
        "\n",
        "2. Se tiene un requerimiento de análisis de las fuentes de datos de pasajeros y viajes. Como podrás observar, las listas se han estado llevando por año. En esta primera parte del reto se te pide: \n",
        "    - Unir cada conjunto de datos en una sola lista. \n",
        "    - Explicar el proceso realizado. \n",
        "    - En caso de detectar anomalías generadas por esta unión, deberás indicar el tipo de anomalía que se presenta, como se puede resolver y resolverlo de ser posible. \n",
        "\n",
        "3. De lo obtenido anteriormente se requiere relacionar las listas de vuelos y pasajeros, que permitan analizar el perfil del pasajero por cada vuelo efectuado. De tal forma que se puedan obtener datos consolidados. En esta parte deberás: \n",
        "    - Explicar el proceso que utilizado para unir los pasajeros y los vuelos.  \n",
        "    - Qué tipo de relación y por qué. \n",
        "\n",
        "4. Ahora se requiere que los datos consolidados de los vuelos y pasajeros se puedan unir con los datos de las Líneas Aéreas. En el caso de que la línea aérea no se pueda relacionar con la de vuelos y pasajeros se deberá indicar que se trata de “Otra” y finalmente se deberá dejar únicamente las columnas: \n",
        "    - Fecha del viaje \n",
        "    - Clase \n",
        "    - Precio \n",
        "    - Ruta \n",
        "    - Edad \n",
        "    - Línea Aérea\n",
        "\n",
        "   En esta parte deberás indicar: \n",
        "    - ¿Qué tipo de proceso consideraste para unir los datos que se piden? \n",
        "    - ¿Qué columnas utilizaste para lograr esa relación? \n",
        "    - ¿Qué tipo de unión utilizaste para unir los datos? \n",
        "    - ¿Qué tipo de proceso utilizaste para dejar únicamente las columnas que se piden? \n",
        "   \n",
        "5. Por último, se requiere el promedio semestral (el primer semestre es de Ene - Jun y el segundo es de Jul - Dic) del precio agrupado por Año, Clase, Ruta y las Línea Aérea como columnas. \n",
        "\n",
        "Los ejercicios deben realizarse en Python, además de un documento donde se contesten las preguntas y se muestren los resultados de las transformaciones. En caso de trabajar con notebooks de jupyter puede exportarse en HTML. \n",
        "\n",
        "Una vez concluido el reto se debe comunicar al correo correspondiente con la liga al repositorio de github final para evaluar las respuestas.\n",
        "\n",
        "\n",
        "Suerte a todos!!! ```\n",
        "\n"
      ]
    },
    {
      "cell_type": "markdown",
      "metadata": {
        "id": "cJSiDOxHgSNB"
      },
      "source": [
        "## 1. Obtener los datos."
      ]
    },
    {
      "cell_type": "markdown",
      "metadata": {
        "id": "kkIEz-4NgG3B"
      },
      "source": [
        "Una vez leído el problema a resolver, el primer paso realizado fue la importación de las librerías a utilizar.\n"
      ]
    },
    {
      "cell_type": "code",
      "metadata": {
        "id": "OxBbIw6nFbN5"
      },
      "source": [
        "import requests\n",
        "import csv\n",
        "import json\n",
        "import pandas as pd\n",
        "from datetime import datetime"
      ],
      "execution_count": 1,
      "outputs": []
    },
    {
      "cell_type": "markdown",
      "metadata": {
        "id": "TWa9r_upjMCd"
      },
      "source": [
        "El primer paso es obtener los datos de las siguientes APIs:"
      ]
    },
    {
      "cell_type": "markdown",
      "metadata": {
        "id": "qVzQLi3LgiAZ"
      },
      "source": [
        "| Dataset                   | Url                                                               |\n",
        "| ------------------------- | ----------------------------------------------------------------- |\n",
        "| Lista Pasajeros 2016      | http://analytics.deacero.com/Api/GetApi/ApiPasajeros2016/api_key  |\n",
        "| Lista Pasajeros 2017      | http://analytics.deacero.com/Api/GetApi/ApiPasajeros2017/api_key  |\n",
        "| Lista Viajes 2016         | http://analytics.deacero.com/Api/GetApi/ApiVuelos2016/api_key     |\n",
        "| Lista Viajes 2017         | http://analytics.deacero.com/Api/GetApi/ApiVuelos2017/api_key     |\n",
        "| Lista Aerolíneas          | http://analytics.deacero.com/Api/GetApi/ApiLineaAerea/api_key     |"
      ]
    },
    {
      "cell_type": "markdown",
      "metadata": {
        "id": "62F1yBDNgnBO"
      },
      "source": [
        "Para lo cual se crearon las siguientes variables:"
      ]
    },
    {
      "cell_type": "code",
      "metadata": {
        "id": "5-U-cSN7F3P4"
      },
      "source": [
        "URLListaPasajeros2016 = 'http://analytics.deacero.com/Api/GetApi/ApiPasajeros2016/{}'.format('ecfb5fc7-0932-590f-832c-6d6055f2be07')\n",
        "URLListaPasajeros2017 = 'http://analytics.deacero.com/Api/GetApi/ApiPasajeros2017/{}'.format('faabd632-cc39-552d-a68b-02de4242f636')\n",
        "URLListaViajes2016 = 'http://analytics.deacero.com/Api/GetApi/ApiVuelos2016/{}'.format('9ea3b836-6938-52dc-9626-a8e35db81dd5')\n",
        "URLListaViajes2017 = 'http://analytics.deacero.com/Api/GetApi/ApiVuelos2017/{}'.format('fc126260-1cf8-5a46-995d-ba639ff5868b')\n",
        "URLListaAeorilineas = 'http://analytics.deacero.com/Api/GetApi/ApiLineaAerea/{}'.format('1a8d9e13-ce30-50fc-bf34-6490eb799a75')"
      ],
      "execution_count": 2,
      "outputs": []
    },
    {
      "cell_type": "markdown",
      "metadata": {
        "id": "zApLgKT8gsFC"
      },
      "source": [
        "(La llave de la API fue proporcionada por correo electrónico).\n",
        "\n",
        "Una vez teniendo el punto de acceso y las llaves se procedió a crear las funciones necesarias para obtener la información."
      ]
    },
    {
      "cell_type": "code",
      "metadata": {
        "id": "0ZCo--fMFieh"
      },
      "source": [
        "def GetURL(url):\n",
        "    response = requests.get(url)\n",
        "    content = response.content.decode(\"utf8\")\n",
        "    return content\n",
        "\n",
        "def GetJSONFromURL(url):\n",
        "    content = GetURL(url)\n",
        "    js = json.loads(content)\n",
        "    return js"
      ],
      "execution_count": 3,
      "outputs": []
    },
    {
      "cell_type": "markdown",
      "metadata": {
        "id": "UnHwIaIKg-ET"
      },
      "source": [
        "Haciendo uso de dichas funciones podemos obtener la información que buscamos y almacenarla en variables para su posterior uso."
      ]
    },
    {
      "cell_type": "code",
      "metadata": {
        "id": "Fjsj_ApyF0SB"
      },
      "source": [
        "RawDataListaPasajeros2016 = GetJSONFromURL(URLListaPasajeros2016)\n",
        "RawDataListaPasajeros2017 = GetJSONFromURL(URLListaPasajeros2017)\n",
        "RawListaViajes2016 = GetJSONFromURL(URLListaViajes2016)\n",
        "RawListaViajes2017 = GetJSONFromURL(URLListaViajes2017)\n",
        "RawListaAeorilineas = GetJSONFromURL(URLListaAeorilineas)"
      ],
      "execution_count": 4,
      "outputs": []
    },
    {
      "cell_type": "markdown",
      "metadata": {
        "id": "FMTDG2FhhH9-"
      },
      "source": [
        "Con esto se puede dar por completado el punto uno. Pero para evitar las llamadas innecesarias al servidor y una posible restricción de solicitudes por parte del servidor se decidió guardar la información en archivos *.csv*.\n",
        "\n",
        "Para guardar la información se decidió imprimir el tipo de datos con el que se esta trabajando y así determinar la manera optima de crear los archivos necesarios."
      ]
    },
    {
      "cell_type": "code",
      "metadata": {
        "id": "0dz39VzaJyLo",
        "colab": {
          "base_uri": "https://localhost:8080/"
        },
        "outputId": "a37502c1-7fa7-497f-9345-a7b61ae0a01e"
      },
      "source": [
        "print(type(RawDataListaPasajeros2016))\n",
        "print(type(RawDataListaPasajeros2016[0]))\n",
        "print(RawDataListaPasajeros2016[0])"
      ],
      "execution_count": 5,
      "outputs": [
        {
          "output_type": "stream",
          "text": [
            "<class 'list'>\n",
            "<class 'dict'>\n",
            "{'ID_Pasajero': 576, 'Pasajero': 'Danielle Thompson', 'Edad': 60}\n"
          ],
          "name": "stdout"
        }
      ]
    },
    {
      "cell_type": "code",
      "metadata": {
        "id": "Prb1RBRgJ1Gs",
        "colab": {
          "base_uri": "https://localhost:8080/"
        },
        "outputId": "759e9663-d60c-4807-bd0d-5086433a884b"
      },
      "source": [
        "print(type(RawDataListaPasajeros2017))\n",
        "print(type(RawDataListaPasajeros2017[0]))\n",
        "print(RawDataListaPasajeros2017[0])"
      ],
      "execution_count": 6,
      "outputs": [
        {
          "output_type": "stream",
          "text": [
            "<class 'list'>\n",
            "<class 'dict'>\n",
            "{'ID_Pasajero': 596, 'Pasajero': 'Javier Olson', 'Edad': 71}\n"
          ],
          "name": "stdout"
        }
      ]
    },
    {
      "cell_type": "code",
      "metadata": {
        "id": "fisN_9hgKOJn",
        "colab": {
          "base_uri": "https://localhost:8080/"
        },
        "outputId": "778d833a-57a7-429f-aa10-d0bdfd942603"
      },
      "source": [
        "print(type(RawListaViajes2016))\n",
        "print(type(RawListaViajes2016[0]))\n",
        "print(RawListaViajes2016[0])"
      ],
      "execution_count": 7,
      "outputs": [
        {
          "output_type": "stream",
          "text": [
            "<class 'list'>\n",
            "<class 'dict'>\n",
            "{'Cve_LA': 'SW', 'Viaje': '9/10/2016', 'Clase': 'Economy', 'Precio': 60, 'Ruta': 'DAL-MDW', 'Cve_Cliente': 553}\n"
          ],
          "name": "stdout"
        }
      ]
    },
    {
      "cell_type": "code",
      "metadata": {
        "id": "r5rf3d66KlAl",
        "colab": {
          "base_uri": "https://localhost:8080/"
        },
        "outputId": "3c5d634c-2e42-4348-dc4c-5386f9c18403"
      },
      "source": [
        "print(type(RawListaViajes2017))\n",
        "print(type(RawListaViajes2017[0]))\n",
        "print(RawListaViajes2017[0])"
      ],
      "execution_count": 8,
      "outputs": [
        {
          "output_type": "stream",
          "text": [
            "<class 'list'>\n",
            "<class 'dict'>\n",
            "{'Cve_LA': 'SW', 'Viaje': '1/4/2017', 'Clase': 'Economy', 'Precio': 86, 'Ruta': 'DAL-ATL', 'Cve_Cliente': 637}\n"
          ],
          "name": "stdout"
        }
      ]
    },
    {
      "cell_type": "code",
      "metadata": {
        "id": "3pMoYjccK7v5",
        "colab": {
          "base_uri": "https://localhost:8080/"
        },
        "outputId": "25ec8e0d-5bd0-416a-95cf-9c831eaea199"
      },
      "source": [
        "print(type(RawListaAeorilineas))\n",
        "print(type(RawListaAeorilineas[0]))\n",
        "print(RawListaAeorilineas[0])"
      ],
      "execution_count": 9,
      "outputs": [
        {
          "output_type": "stream",
          "text": [
            "<class 'list'>\n",
            "<class 'dict'>\n",
            "{'Code': 'AA', 'Linea_Aerea': 'American Airlines'}\n"
          ],
          "name": "stdout"
        }
      ]
    },
    {
      "cell_type": "markdown",
      "metadata": {
        "id": "UFUI8YlYhb_6"
      },
      "source": [
        "Los resultados fueron similares para los cinco conjuntos de datos, a excepción de los cabezales que varía dependiendo del conjunto en cuestión.\n",
        "\n",
        "*   Cabezales para las lista de pasajeros: 'ID_Pasajero', 'Pasajero' y 'Edad'.\n",
        "*   Cabezales para las listas de viajes: 'Cve_LA', 'Viaje', 'Clase', 'Precio', 'Ruta' y 'Cve_Cliente'.\n",
        "*   Cabezales para la lista de aerolíneas: 'Code' y 'Linea_Aerea'.\n"
      ]
    },
    {
      "cell_type": "markdown",
      "metadata": {
        "id": "rvV5Lw09hkQw"
      },
      "source": [
        "Una vez teniendo los cabezales de los datos, se procedió a escribirlos en sus archivos *.csv* correspondientes."
      ]
    },
    {
      "cell_type": "code",
      "metadata": {
        "id": "M5nIuqU7pstL"
      },
      "source": [
        "with open('RawListaPasajeros2016.csv','w', newline='') as csvfile:\n",
        "  cabezales = ['ID_Pasajero','Pasajero','Edad']\n",
        "  writer = csv.DictWriter(csvfile, fieldnames=cabezales)\n",
        "  writer.writeheader()\n",
        "  for i in RawDataListaPasajeros2016:\n",
        "    writer.writerow(i)"
      ],
      "execution_count": 10,
      "outputs": []
    },
    {
      "cell_type": "code",
      "metadata": {
        "id": "ikMOyPS8pxMb"
      },
      "source": [
        "with open('RawListaPasajeros2017.csv','w', newline='') as csvfile:\n",
        "  cabezales = ['ID_Pasajero','Pasajero','Edad']\n",
        "  writer = csv.DictWriter(csvfile, fieldnames=cabezales)\n",
        "  writer.writeheader()\n",
        "  for i in RawDataListaPasajeros2017:\n",
        "    writer.writerow(i)"
      ],
      "execution_count": 11,
      "outputs": []
    },
    {
      "cell_type": "code",
      "metadata": {
        "id": "EXV5elMwp2uG"
      },
      "source": [
        "with open('RawListaViajes2016.csv','w', newline='') as csvfile:\n",
        "  cabezales = ['Cve_LA','Viaje','Clase','Precio','Ruta','Cve_Cliente']\n",
        "  writer = csv.DictWriter(csvfile, fieldnames=cabezales)\n",
        "  writer.writeheader()\n",
        "  for i in RawListaViajes2016:\n",
        "    writer.writerow(i)"
      ],
      "execution_count": 12,
      "outputs": []
    },
    {
      "cell_type": "code",
      "metadata": {
        "id": "8mmDyX5qp6eb"
      },
      "source": [
        "with open('RawListaViajes2017.csv','w', newline='') as csvfile:\n",
        "  cabezales = ['Cve_LA','Viaje','Clase','Precio','Ruta','Cve_Cliente']\n",
        "  writer = csv.DictWriter(csvfile, fieldnames=cabezales)\n",
        "  writer.writeheader()\n",
        "  for i in RawListaViajes2017:\n",
        "    writer.writerow(i)"
      ],
      "execution_count": 13,
      "outputs": []
    },
    {
      "cell_type": "code",
      "metadata": {
        "id": "QLIzQChmp_bN"
      },
      "source": [
        "with open('RawListaAeorilineas.csv','w', newline='') as csvfile:\n",
        "  cabezales = ['Code','Linea_Aerea']\n",
        "  writer = csv.DictWriter(csvfile, fieldnames=cabezales)\n",
        "  writer.writeheader()\n",
        "  for i in RawListaAeorilineas:\n",
        "    writer.writerow(i)"
      ],
      "execution_count": 14,
      "outputs": []
    },
    {
      "cell_type": "markdown",
      "metadata": {
        "id": "Lm1adc-shpd8"
      },
      "source": [
        "Por último, para poder trabajar de manera más rápida se decidió utilizar variables del tipo *pandas.DataFrame*, obtenidas a partir de los archivos recién creados."
      ]
    },
    {
      "cell_type": "code",
      "metadata": {
        "id": "jnekriCHLqEA"
      },
      "source": [
        "DFListaPasajeros2016 = pd.read_csv('RawListaPasajeros2016.csv', index_col=0)\n",
        "DFListaPasajeros2017 = pd.read_csv('RawListaPasajeros2017.csv', index_col=0)\n",
        "DFListaViajes2016 = pd.read_csv('RawListaViajes2016.csv',index_col=5)\n",
        "DFListaViajes2017 = pd.read_csv('RawListaViajes2017.csv',index_col=5)\n",
        "DFListaAeorilineas = pd.read_csv('RawListaAeorilineas.csv')"
      ],
      "execution_count": 15,
      "outputs": []
    },
    {
      "cell_type": "markdown",
      "metadata": {
        "id": "2HYXcILwhuyB"
      },
      "source": [
        "(La selección de las columnas indice tiene su justificación en el punto dos)."
      ]
    },
    {
      "cell_type": "markdown",
      "metadata": {
        "id": "pbdZ0nbqh-cv"
      },
      "source": [
        "##2.- Unir los conjuntos de datos."
      ]
    },
    {
      "cell_type": "markdown",
      "metadata": {
        "id": "OTqYd8U8h1Qq"
      },
      "source": [
        "En el punto dos del ejercicio se nos solicita hacer la unión de los conjuntos de datos una sola lista. Para lo cual se decidió unir las listas de los pasajeros entre sí y las listas de los vuelos entre sí. Esto resulta sencillo ya que los datos contienen las mismas columnas y como también se seleccionaron de antemano las mismas columnas indice lo único que hay que hacer es unir ambas listas con una concatenación."
      ]
    },
    {
      "cell_type": "markdown",
      "metadata": {
        "id": "QaTJGOeMjl4q"
      },
      "source": [
        "Para corroborar la anterior primero obtenemos las primeras filas de cada conjunto de datos a unir."
      ]
    },
    {
      "cell_type": "code",
      "metadata": {
        "id": "xHvCbuQIP5F9",
        "colab": {
          "base_uri": "https://localhost:8080/",
          "height": 227
        },
        "outputId": "acdf0f5f-f7d5-4abb-f981-c139ce8219ab"
      },
      "source": [
        "DFListaPasajeros2016.head()"
      ],
      "execution_count": 16,
      "outputs": [
        {
          "output_type": "execute_result",
          "data": {
            "text/html": [
              "<div>\n",
              "<style scoped>\n",
              "    .dataframe tbody tr th:only-of-type {\n",
              "        vertical-align: middle;\n",
              "    }\n",
              "\n",
              "    .dataframe tbody tr th {\n",
              "        vertical-align: top;\n",
              "    }\n",
              "\n",
              "    .dataframe thead th {\n",
              "        text-align: right;\n",
              "    }\n",
              "</style>\n",
              "<table border=\"1\" class=\"dataframe\">\n",
              "  <thead>\n",
              "    <tr style=\"text-align: right;\">\n",
              "      <th></th>\n",
              "      <th>Pasajero</th>\n",
              "      <th>Edad</th>\n",
              "    </tr>\n",
              "    <tr>\n",
              "      <th>ID_Pasajero</th>\n",
              "      <th></th>\n",
              "      <th></th>\n",
              "    </tr>\n",
              "  </thead>\n",
              "  <tbody>\n",
              "    <tr>\n",
              "      <th>576</th>\n",
              "      <td>Danielle Thompson</td>\n",
              "      <td>60</td>\n",
              "    </tr>\n",
              "    <tr>\n",
              "      <th>579</th>\n",
              "      <td>Natalie Cuevas</td>\n",
              "      <td>49</td>\n",
              "    </tr>\n",
              "    <tr>\n",
              "      <th>683</th>\n",
              "      <td>John Murray</td>\n",
              "      <td>28</td>\n",
              "    </tr>\n",
              "    <tr>\n",
              "      <th>681</th>\n",
              "      <td>Michael Jacobs</td>\n",
              "      <td>24</td>\n",
              "    </tr>\n",
              "    <tr>\n",
              "      <th>592</th>\n",
              "      <td>Brian Hunt</td>\n",
              "      <td>40</td>\n",
              "    </tr>\n",
              "  </tbody>\n",
              "</table>\n",
              "</div>"
            ],
            "text/plain": [
              "                      Pasajero  Edad\n",
              "ID_Pasajero                         \n",
              "576          Danielle Thompson    60\n",
              "579             Natalie Cuevas    49\n",
              "683                John Murray    28\n",
              "681             Michael Jacobs    24\n",
              "592                 Brian Hunt    40"
            ]
          },
          "metadata": {
            "tags": []
          },
          "execution_count": 16
        }
      ]
    },
    {
      "cell_type": "code",
      "metadata": {
        "colab": {
          "base_uri": "https://localhost:8080/",
          "height": 227
        },
        "id": "B6Ca-LNLun3o",
        "outputId": "0dbadc38-dc31-4bc6-f28f-09054ba36fe0"
      },
      "source": [
        "DFListaPasajeros2017.head()"
      ],
      "execution_count": 17,
      "outputs": [
        {
          "output_type": "execute_result",
          "data": {
            "text/html": [
              "<div>\n",
              "<style scoped>\n",
              "    .dataframe tbody tr th:only-of-type {\n",
              "        vertical-align: middle;\n",
              "    }\n",
              "\n",
              "    .dataframe tbody tr th {\n",
              "        vertical-align: top;\n",
              "    }\n",
              "\n",
              "    .dataframe thead th {\n",
              "        text-align: right;\n",
              "    }\n",
              "</style>\n",
              "<table border=\"1\" class=\"dataframe\">\n",
              "  <thead>\n",
              "    <tr style=\"text-align: right;\">\n",
              "      <th></th>\n",
              "      <th>Pasajero</th>\n",
              "      <th>Edad</th>\n",
              "    </tr>\n",
              "    <tr>\n",
              "      <th>ID_Pasajero</th>\n",
              "      <th></th>\n",
              "      <th></th>\n",
              "    </tr>\n",
              "  </thead>\n",
              "  <tbody>\n",
              "    <tr>\n",
              "      <th>596</th>\n",
              "      <td>Javier Olson</td>\n",
              "      <td>71</td>\n",
              "    </tr>\n",
              "    <tr>\n",
              "      <th>625</th>\n",
              "      <td>Monique Ramirez</td>\n",
              "      <td>35</td>\n",
              "    </tr>\n",
              "    <tr>\n",
              "      <th>637</th>\n",
              "      <td>Rob Beeghly</td>\n",
              "      <td>29</td>\n",
              "    </tr>\n",
              "    <tr>\n",
              "      <th>730</th>\n",
              "      <td>Timothy Moore</td>\n",
              "      <td>21</td>\n",
              "    </tr>\n",
              "    <tr>\n",
              "      <th>682</th>\n",
              "      <td>Scot Wooten</td>\n",
              "      <td>72</td>\n",
              "    </tr>\n",
              "  </tbody>\n",
              "</table>\n",
              "</div>"
            ],
            "text/plain": [
              "                    Pasajero  Edad\n",
              "ID_Pasajero                       \n",
              "596             Javier Olson    71\n",
              "625          Monique Ramirez    35\n",
              "637              Rob Beeghly    29\n",
              "730            Timothy Moore    21\n",
              "682              Scot Wooten    72"
            ]
          },
          "metadata": {
            "tags": []
          },
          "execution_count": 17
        }
      ]
    },
    {
      "cell_type": "markdown",
      "metadata": {
        "id": "QQYt3-1ejq_B"
      },
      "source": [
        "Una vez comprobado que ambos conjuntos de datos son similares, ya es seguro hacer la concatenación."
      ]
    },
    {
      "cell_type": "code",
      "metadata": {
        "id": "jCiUcDtqSN7Q"
      },
      "source": [
        "ListaPasajerosUnificada = pd.concat([DFListaPasajeros2016,DFListaPasajeros2017])"
      ],
      "execution_count": 18,
      "outputs": []
    },
    {
      "cell_type": "markdown",
      "metadata": {
        "id": "_n4Lx1BojxI8"
      },
      "source": [
        "Lo que resulta en una lista similar:"
      ]
    },
    {
      "cell_type": "code",
      "metadata": {
        "colab": {
          "base_uri": "https://localhost:8080/",
          "height": 227
        },
        "id": "PCgOs9qFjz0X",
        "outputId": "8d130f86-26d9-40ec-f51f-f7189fccae31"
      },
      "source": [
        "ListaPasajerosUnificada.head()"
      ],
      "execution_count": 19,
      "outputs": [
        {
          "output_type": "execute_result",
          "data": {
            "text/html": [
              "<div>\n",
              "<style scoped>\n",
              "    .dataframe tbody tr th:only-of-type {\n",
              "        vertical-align: middle;\n",
              "    }\n",
              "\n",
              "    .dataframe tbody tr th {\n",
              "        vertical-align: top;\n",
              "    }\n",
              "\n",
              "    .dataframe thead th {\n",
              "        text-align: right;\n",
              "    }\n",
              "</style>\n",
              "<table border=\"1\" class=\"dataframe\">\n",
              "  <thead>\n",
              "    <tr style=\"text-align: right;\">\n",
              "      <th></th>\n",
              "      <th>Pasajero</th>\n",
              "      <th>Edad</th>\n",
              "    </tr>\n",
              "    <tr>\n",
              "      <th>ID_Pasajero</th>\n",
              "      <th></th>\n",
              "      <th></th>\n",
              "    </tr>\n",
              "  </thead>\n",
              "  <tbody>\n",
              "    <tr>\n",
              "      <th>576</th>\n",
              "      <td>Danielle Thompson</td>\n",
              "      <td>60</td>\n",
              "    </tr>\n",
              "    <tr>\n",
              "      <th>579</th>\n",
              "      <td>Natalie Cuevas</td>\n",
              "      <td>49</td>\n",
              "    </tr>\n",
              "    <tr>\n",
              "      <th>683</th>\n",
              "      <td>John Murray</td>\n",
              "      <td>28</td>\n",
              "    </tr>\n",
              "    <tr>\n",
              "      <th>681</th>\n",
              "      <td>Michael Jacobs</td>\n",
              "      <td>24</td>\n",
              "    </tr>\n",
              "    <tr>\n",
              "      <th>592</th>\n",
              "      <td>Brian Hunt</td>\n",
              "      <td>40</td>\n",
              "    </tr>\n",
              "  </tbody>\n",
              "</table>\n",
              "</div>"
            ],
            "text/plain": [
              "                      Pasajero  Edad\n",
              "ID_Pasajero                         \n",
              "576          Danielle Thompson    60\n",
              "579             Natalie Cuevas    49\n",
              "683                John Murray    28\n",
              "681             Michael Jacobs    24\n",
              "592                 Brian Hunt    40"
            ]
          },
          "metadata": {
            "tags": []
          },
          "execution_count": 19
        }
      ]
    },
    {
      "cell_type": "markdown",
      "metadata": {
        "id": "tI1cKm4wkH2-"
      },
      "source": [
        "Con ambas listas unidas se procedió a verificar que no tuvieran elementos duplicados, ya que en una lista como esta no es necesario que se repitan los datos."
      ]
    },
    {
      "cell_type": "code",
      "metadata": {
        "colab": {
          "base_uri": "https://localhost:8080/"
        },
        "id": "-muafLTaUFcu",
        "outputId": "35de759c-1f3e-466e-eed4-d12fc089e31f"
      },
      "source": [
        "ListaPasajerosUnificada.value_counts()"
      ],
      "execution_count": 20,
      "outputs": [
        {
          "output_type": "execute_result",
          "data": {
            "text/plain": [
              "Pasajero         Edad\n",
              "Scot Wooten      72      12\n",
              "Anemone Ratner   39      10\n",
              "Shahid Shariari  67       6\n",
              "Rob Beeghly      29       5\n",
              "Brandon Harris   68       4\n",
              "                         ..\n",
              "Michael Flores   46       1\n",
              "Michael Jacobs   24       1\n",
              "Michael Nguyen   66       1\n",
              "Monique Ramirez  35       1\n",
              "Aaron Bennett    43       1\n",
              "Length: 138, dtype: int64"
            ]
          },
          "metadata": {
            "tags": []
          },
          "execution_count": 20
        }
      ]
    },
    {
      "cell_type": "markdown",
      "metadata": {
        "id": "SGu-mvkDkNXk"
      },
      "source": [
        "Como se puede ver hay cierto valores que se repiten, por lo cual se procede a eliminar dichos datos."
      ]
    },
    {
      "cell_type": "code",
      "metadata": {
        "id": "J_3B2-rVVPRp"
      },
      "source": [
        "ListaPasajerosUnificada.drop_duplicates(keep='first', inplace=True)"
      ],
      "execution_count": 21,
      "outputs": []
    },
    {
      "cell_type": "code",
      "metadata": {
        "colab": {
          "base_uri": "https://localhost:8080/"
        },
        "id": "XPfVgKAbXNVp",
        "outputId": "7ef6e1f1-e9da-436e-ecc8-da0d4537ca1c"
      },
      "source": [
        "ListaPasajerosUnificada.value_counts()"
      ],
      "execution_count": 22,
      "outputs": [
        {
          "output_type": "execute_result",
          "data": {
            "text/plain": [
              "Pasajero           Edad\n",
              "Zachary White      49      1\n",
              "Erik Wheeler       30      1\n",
              "Heather Morgan     22      1\n",
              "Hannah Haley       53      1\n",
              "Haley Watkins      57      1\n",
              "                          ..\n",
              "Monique Ramirez    35      1\n",
              "Monique Smith      52      1\n",
              "Mrs. Courtney Day  40      1\n",
              "Nancy Lomonaco     34      1\n",
              "Aaron Bennett      43      1\n",
              "Length: 138, dtype: int64"
            ]
          },
          "metadata": {
            "tags": []
          },
          "execution_count": 22
        }
      ]
    },
    {
      "cell_type": "markdown",
      "metadata": {
        "id": "iAxERsxPkTuT"
      },
      "source": [
        "La longitud de los datos nos indica que no se a eliminado ningún dato que no este duplicado, por lo que podemos continuar. Pero para confirmar que el resultado es el esperado se imprimen las primeras columnas:\n"
      ]
    },
    {
      "cell_type": "code",
      "metadata": {
        "colab": {
          "base_uri": "https://localhost:8080/",
          "height": 227
        },
        "id": "PMTs31UHkZ32",
        "outputId": "e6c2df4b-d240-4931-d9d2-a8399107ef13"
      },
      "source": [
        "ListaPasajerosUnificada.head()"
      ],
      "execution_count": 23,
      "outputs": [
        {
          "output_type": "execute_result",
          "data": {
            "text/html": [
              "<div>\n",
              "<style scoped>\n",
              "    .dataframe tbody tr th:only-of-type {\n",
              "        vertical-align: middle;\n",
              "    }\n",
              "\n",
              "    .dataframe tbody tr th {\n",
              "        vertical-align: top;\n",
              "    }\n",
              "\n",
              "    .dataframe thead th {\n",
              "        text-align: right;\n",
              "    }\n",
              "</style>\n",
              "<table border=\"1\" class=\"dataframe\">\n",
              "  <thead>\n",
              "    <tr style=\"text-align: right;\">\n",
              "      <th></th>\n",
              "      <th>Pasajero</th>\n",
              "      <th>Edad</th>\n",
              "    </tr>\n",
              "    <tr>\n",
              "      <th>ID_Pasajero</th>\n",
              "      <th></th>\n",
              "      <th></th>\n",
              "    </tr>\n",
              "  </thead>\n",
              "  <tbody>\n",
              "    <tr>\n",
              "      <th>576</th>\n",
              "      <td>Danielle Thompson</td>\n",
              "      <td>60</td>\n",
              "    </tr>\n",
              "    <tr>\n",
              "      <th>579</th>\n",
              "      <td>Natalie Cuevas</td>\n",
              "      <td>49</td>\n",
              "    </tr>\n",
              "    <tr>\n",
              "      <th>683</th>\n",
              "      <td>John Murray</td>\n",
              "      <td>28</td>\n",
              "    </tr>\n",
              "    <tr>\n",
              "      <th>681</th>\n",
              "      <td>Michael Jacobs</td>\n",
              "      <td>24</td>\n",
              "    </tr>\n",
              "    <tr>\n",
              "      <th>592</th>\n",
              "      <td>Brian Hunt</td>\n",
              "      <td>40</td>\n",
              "    </tr>\n",
              "  </tbody>\n",
              "</table>\n",
              "</div>"
            ],
            "text/plain": [
              "                      Pasajero  Edad\n",
              "ID_Pasajero                         \n",
              "576          Danielle Thompson    60\n",
              "579             Natalie Cuevas    49\n",
              "683                John Murray    28\n",
              "681             Michael Jacobs    24\n",
              "592                 Brian Hunt    40"
            ]
          },
          "metadata": {
            "tags": []
          },
          "execution_count": 23
        }
      ]
    },
    {
      "cell_type": "markdown",
      "metadata": {
        "id": "z-dhgP4Mkl_d"
      },
      "source": [
        "El siguiente paso realizado fue guardar estos datos ya unificados en un nuevo archivo *.csv*."
      ]
    },
    {
      "cell_type": "code",
      "metadata": {
        "id": "W5a7WvafcxLS"
      },
      "source": [
        "ListaPasajerosUnificada.to_csv('Unif.csv')"
      ],
      "execution_count": 24,
      "outputs": []
    },
    {
      "cell_type": "code",
      "metadata": {
        "id": "-u8NngvGYmCn"
      },
      "source": [
        "# cabezalesListaPasajeros = ['ID_Pasajero','Pasajero','Edad']\n",
        "# cabezalesListasViajes = ['Cve_LA','Viaje','Clase','Precio','Ruta','Cve_Cliente']\n",
        "# cabezalesListaAeorilineas = ['Code','Linea_Aerea']\n"
      ],
      "execution_count": null,
      "outputs": []
    },
    {
      "cell_type": "markdown",
      "metadata": {
        "id": "a-e6jhQbktTG"
      },
      "source": [
        "Este proceso se repitió con las lista de los viajes. Mostramos las primeras filas de la lista de viajes:"
      ]
    },
    {
      "cell_type": "markdown",
      "metadata": {
        "id": "DmSurO_LkxV8"
      },
      "source": [
        "Lista viajes 2016:"
      ]
    },
    {
      "cell_type": "code",
      "metadata": {
        "colab": {
          "base_uri": "https://localhost:8080/",
          "height": 227
        },
        "id": "wwszjywFxr1M",
        "outputId": "6f938768-bc2d-42dc-c3ab-4e668d1d4786"
      },
      "source": [
        "DFListaViajes2016.head()"
      ],
      "execution_count": 25,
      "outputs": [
        {
          "output_type": "execute_result",
          "data": {
            "text/html": [
              "<div>\n",
              "<style scoped>\n",
              "    .dataframe tbody tr th:only-of-type {\n",
              "        vertical-align: middle;\n",
              "    }\n",
              "\n",
              "    .dataframe tbody tr th {\n",
              "        vertical-align: top;\n",
              "    }\n",
              "\n",
              "    .dataframe thead th {\n",
              "        text-align: right;\n",
              "    }\n",
              "</style>\n",
              "<table border=\"1\" class=\"dataframe\">\n",
              "  <thead>\n",
              "    <tr style=\"text-align: right;\">\n",
              "      <th></th>\n",
              "      <th>Cve_LA</th>\n",
              "      <th>Viaje</th>\n",
              "      <th>Clase</th>\n",
              "      <th>Precio</th>\n",
              "      <th>Ruta</th>\n",
              "    </tr>\n",
              "    <tr>\n",
              "      <th>Cve_Cliente</th>\n",
              "      <th></th>\n",
              "      <th></th>\n",
              "      <th></th>\n",
              "      <th></th>\n",
              "      <th></th>\n",
              "    </tr>\n",
              "  </thead>\n",
              "  <tbody>\n",
              "    <tr>\n",
              "      <th>553</th>\n",
              "      <td>SW</td>\n",
              "      <td>9/10/2016</td>\n",
              "      <td>Economy</td>\n",
              "      <td>60</td>\n",
              "      <td>DAL-MDW</td>\n",
              "    </tr>\n",
              "    <tr>\n",
              "      <th>554</th>\n",
              "      <td>AA</td>\n",
              "      <td>6/11/2016</td>\n",
              "      <td>Economy</td>\n",
              "      <td>150</td>\n",
              "      <td>DAL-SLC</td>\n",
              "    </tr>\n",
              "    <tr>\n",
              "      <th>554</th>\n",
              "      <td>DA</td>\n",
              "      <td>9/21/2016</td>\n",
              "      <td>Economy</td>\n",
              "      <td>68</td>\n",
              "      <td>DAL-AMA</td>\n",
              "    </tr>\n",
              "    <tr>\n",
              "      <th>556</th>\n",
              "      <td>UA</td>\n",
              "      <td>6/28/2016</td>\n",
              "      <td>Business</td>\n",
              "      <td>160</td>\n",
              "      <td>DAL-SLC</td>\n",
              "    </tr>\n",
              "    <tr>\n",
              "      <th>557</th>\n",
              "      <td>SW</td>\n",
              "      <td>6/25/2016</td>\n",
              "      <td>Economy</td>\n",
              "      <td>65</td>\n",
              "      <td>DAL-OKC</td>\n",
              "    </tr>\n",
              "  </tbody>\n",
              "</table>\n",
              "</div>"
            ],
            "text/plain": [
              "            Cve_LA      Viaje     Clase  Precio     Ruta\n",
              "Cve_Cliente                                             \n",
              "553             SW  9/10/2016   Economy      60  DAL-MDW\n",
              "554             AA  6/11/2016   Economy     150  DAL-SLC\n",
              "554             DA  9/21/2016   Economy      68  DAL-AMA\n",
              "556             UA  6/28/2016  Business     160  DAL-SLC\n",
              "557             SW  6/25/2016   Economy      65  DAL-OKC"
            ]
          },
          "metadata": {
            "tags": []
          },
          "execution_count": 25
        }
      ]
    },
    {
      "cell_type": "markdown",
      "metadata": {
        "id": "AF6M7zgMkzHX"
      },
      "source": [
        "Lista viajes 2017:"
      ]
    },
    {
      "cell_type": "code",
      "metadata": {
        "colab": {
          "base_uri": "https://localhost:8080/",
          "height": 227
        },
        "id": "4rZyfhTBxrfS",
        "outputId": "b017a13c-6c56-4963-edf8-4872987e55cd"
      },
      "source": [
        "DFListaViajes2017.head()"
      ],
      "execution_count": 26,
      "outputs": [
        {
          "output_type": "execute_result",
          "data": {
            "text/html": [
              "<div>\n",
              "<style scoped>\n",
              "    .dataframe tbody tr th:only-of-type {\n",
              "        vertical-align: middle;\n",
              "    }\n",
              "\n",
              "    .dataframe tbody tr th {\n",
              "        vertical-align: top;\n",
              "    }\n",
              "\n",
              "    .dataframe thead th {\n",
              "        text-align: right;\n",
              "    }\n",
              "</style>\n",
              "<table border=\"1\" class=\"dataframe\">\n",
              "  <thead>\n",
              "    <tr style=\"text-align: right;\">\n",
              "      <th></th>\n",
              "      <th>Cve_LA</th>\n",
              "      <th>Viaje</th>\n",
              "      <th>Clase</th>\n",
              "      <th>Precio</th>\n",
              "      <th>Ruta</th>\n",
              "    </tr>\n",
              "    <tr>\n",
              "      <th>Cve_Cliente</th>\n",
              "      <th></th>\n",
              "      <th></th>\n",
              "      <th></th>\n",
              "      <th></th>\n",
              "      <th></th>\n",
              "    </tr>\n",
              "  </thead>\n",
              "  <tbody>\n",
              "    <tr>\n",
              "      <th>637</th>\n",
              "      <td>SW</td>\n",
              "      <td>1/4/2017</td>\n",
              "      <td>Economy</td>\n",
              "      <td>86</td>\n",
              "      <td>DAL-ATL</td>\n",
              "    </tr>\n",
              "    <tr>\n",
              "      <th>402</th>\n",
              "      <td>SW</td>\n",
              "      <td>1/4/2017</td>\n",
              "      <td>First Class</td>\n",
              "      <td>237</td>\n",
              "      <td>DAL-ATL</td>\n",
              "    </tr>\n",
              "    <tr>\n",
              "      <th>191</th>\n",
              "      <td>SW</td>\n",
              "      <td>1/2/2017</td>\n",
              "      <td>Economy</td>\n",
              "      <td>62</td>\n",
              "      <td>DAL-LGA</td>\n",
              "    </tr>\n",
              "    <tr>\n",
              "      <th>191</th>\n",
              "      <td>SW</td>\n",
              "      <td>1/2/2017</td>\n",
              "      <td>Economy</td>\n",
              "      <td>81</td>\n",
              "      <td>DAL-MDW</td>\n",
              "    </tr>\n",
              "    <tr>\n",
              "      <th>637</th>\n",
              "      <td>AA</td>\n",
              "      <td>1/4/2017</td>\n",
              "      <td>Business</td>\n",
              "      <td>169</td>\n",
              "      <td>DAL-LGA</td>\n",
              "    </tr>\n",
              "  </tbody>\n",
              "</table>\n",
              "</div>"
            ],
            "text/plain": [
              "            Cve_LA     Viaje        Clase  Precio     Ruta\n",
              "Cve_Cliente                                               \n",
              "637             SW  1/4/2017      Economy      86  DAL-ATL\n",
              "402             SW  1/4/2017  First Class     237  DAL-ATL\n",
              "191             SW  1/2/2017      Economy      62  DAL-LGA\n",
              "191             SW  1/2/2017      Economy      81  DAL-MDW\n",
              "637             AA  1/4/2017     Business     169  DAL-LGA"
            ]
          },
          "metadata": {
            "tags": []
          },
          "execution_count": 26
        }
      ]
    },
    {
      "cell_type": "markdown",
      "metadata": {
        "id": "28nSQIWyk4WU"
      },
      "source": [
        "Las concatenamos:"
      ]
    },
    {
      "cell_type": "code",
      "metadata": {
        "id": "LXIynmyIX_iT"
      },
      "source": [
        "ListaDeViajesUnifacada = pd.concat([DFListaViajes2016,DFListaViajes2017])"
      ],
      "execution_count": 27,
      "outputs": []
    },
    {
      "cell_type": "markdown",
      "metadata": {
        "id": "Pvwlp8Pfk66w"
      },
      "source": [
        "Y verificamos el resultado"
      ]
    },
    {
      "cell_type": "code",
      "metadata": {
        "colab": {
          "base_uri": "https://localhost:8080/",
          "height": 227
        },
        "id": "YmGP3o3-Z6Se",
        "outputId": "a00f635e-5dcf-490e-d342-b671b446ba6f"
      },
      "source": [
        "ListaDeViajesUnifacada.head()"
      ],
      "execution_count": 28,
      "outputs": [
        {
          "output_type": "execute_result",
          "data": {
            "text/html": [
              "<div>\n",
              "<style scoped>\n",
              "    .dataframe tbody tr th:only-of-type {\n",
              "        vertical-align: middle;\n",
              "    }\n",
              "\n",
              "    .dataframe tbody tr th {\n",
              "        vertical-align: top;\n",
              "    }\n",
              "\n",
              "    .dataframe thead th {\n",
              "        text-align: right;\n",
              "    }\n",
              "</style>\n",
              "<table border=\"1\" class=\"dataframe\">\n",
              "  <thead>\n",
              "    <tr style=\"text-align: right;\">\n",
              "      <th></th>\n",
              "      <th>Cve_LA</th>\n",
              "      <th>Viaje</th>\n",
              "      <th>Clase</th>\n",
              "      <th>Precio</th>\n",
              "      <th>Ruta</th>\n",
              "    </tr>\n",
              "    <tr>\n",
              "      <th>Cve_Cliente</th>\n",
              "      <th></th>\n",
              "      <th></th>\n",
              "      <th></th>\n",
              "      <th></th>\n",
              "      <th></th>\n",
              "    </tr>\n",
              "  </thead>\n",
              "  <tbody>\n",
              "    <tr>\n",
              "      <th>553</th>\n",
              "      <td>SW</td>\n",
              "      <td>9/10/2016</td>\n",
              "      <td>Economy</td>\n",
              "      <td>60</td>\n",
              "      <td>DAL-MDW</td>\n",
              "    </tr>\n",
              "    <tr>\n",
              "      <th>554</th>\n",
              "      <td>AA</td>\n",
              "      <td>6/11/2016</td>\n",
              "      <td>Economy</td>\n",
              "      <td>150</td>\n",
              "      <td>DAL-SLC</td>\n",
              "    </tr>\n",
              "    <tr>\n",
              "      <th>554</th>\n",
              "      <td>DA</td>\n",
              "      <td>9/21/2016</td>\n",
              "      <td>Economy</td>\n",
              "      <td>68</td>\n",
              "      <td>DAL-AMA</td>\n",
              "    </tr>\n",
              "    <tr>\n",
              "      <th>556</th>\n",
              "      <td>UA</td>\n",
              "      <td>6/28/2016</td>\n",
              "      <td>Business</td>\n",
              "      <td>160</td>\n",
              "      <td>DAL-SLC</td>\n",
              "    </tr>\n",
              "    <tr>\n",
              "      <th>557</th>\n",
              "      <td>SW</td>\n",
              "      <td>6/25/2016</td>\n",
              "      <td>Economy</td>\n",
              "      <td>65</td>\n",
              "      <td>DAL-OKC</td>\n",
              "    </tr>\n",
              "  </tbody>\n",
              "</table>\n",
              "</div>"
            ],
            "text/plain": [
              "            Cve_LA      Viaje     Clase  Precio     Ruta\n",
              "Cve_Cliente                                             \n",
              "553             SW  9/10/2016   Economy      60  DAL-MDW\n",
              "554             AA  6/11/2016   Economy     150  DAL-SLC\n",
              "554             DA  9/21/2016   Economy      68  DAL-AMA\n",
              "556             UA  6/28/2016  Business     160  DAL-SLC\n",
              "557             SW  6/25/2016   Economy      65  DAL-OKC"
            ]
          },
          "metadata": {
            "tags": []
          },
          "execution_count": 28
        }
      ]
    },
    {
      "cell_type": "markdown",
      "metadata": {
        "id": "4gVIiZIUlNt2"
      },
      "source": [
        "Verificamos duplicados."
      ]
    },
    {
      "cell_type": "code",
      "metadata": {
        "colab": {
          "base_uri": "https://localhost:8080/"
        },
        "id": "qLXeM4jDlIcS",
        "outputId": "095a655e-8be5-4fa4-db10-94f04cfc12c6"
      },
      "source": [
        "ListaDeViajesUnifacada.value_counts()"
      ],
      "execution_count": 29,
      "outputs": [
        {
          "output_type": "execute_result",
          "data": {
            "text/plain": [
              "Cve_LA  Viaje      Clase        Precio  Ruta   \n",
              "UA      6/28/2016  Business     160     DAL-SLC    1\n",
              "AM      7/4/2017   Business     122     DAL-AUS    1\n",
              "        6/22/2016  Economy      207     DAL-LGA    1\n",
              "        6/26/2016  Economy      245     DAL-ELP    1\n",
              "        6/5/2017   First Class  85      DAL-AMA    1\n",
              "                                                  ..\n",
              "KL      6/12/2016  Economy      233     DAL-PHX    1\n",
              "        6/14/2016  Economy      192     DAL-AUS    1\n",
              "        6/16/2016  First Class  183     DAL-AUS    1\n",
              "        6/16/2017  Business     55      DAL-MDW    1\n",
              "AA      1/1/2017   Business     115     DAL-LGA    1\n",
              "Length: 400, dtype: int64"
            ]
          },
          "metadata": {
            "tags": []
          },
          "execution_count": 29
        }
      ]
    },
    {
      "cell_type": "markdown",
      "metadata": {
        "id": "x2RRG-84lccG"
      },
      "source": [
        "Y por último guardamos los datos en un archivo .*csv*."
      ]
    },
    {
      "cell_type": "code",
      "metadata": {
        "id": "36ls7h_Clfsy"
      },
      "source": [
        "ListaDeViajesUnifacada.to_csv('ListaDeViajesUnificada.csv')"
      ],
      "execution_count": 30,
      "outputs": []
    },
    {
      "cell_type": "markdown",
      "metadata": {
        "id": "zy82ebnPlnuS"
      },
      "source": [
        "Como la lista de aerolíneas es solo una, no hay necesidad manipularla por ahora."
      ]
    },
    {
      "cell_type": "code",
      "metadata": {
        "colab": {
          "base_uri": "https://localhost:8080/",
          "height": 197
        },
        "id": "JX3hC5QYlpnv",
        "outputId": "6febe615-9579-4ef8-93cc-a2fb058e1757"
      },
      "source": [
        "DFListaAeorilineas.head()"
      ],
      "execution_count": 31,
      "outputs": [
        {
          "output_type": "execute_result",
          "data": {
            "text/html": [
              "<div>\n",
              "<style scoped>\n",
              "    .dataframe tbody tr th:only-of-type {\n",
              "        vertical-align: middle;\n",
              "    }\n",
              "\n",
              "    .dataframe tbody tr th {\n",
              "        vertical-align: top;\n",
              "    }\n",
              "\n",
              "    .dataframe thead th {\n",
              "        text-align: right;\n",
              "    }\n",
              "</style>\n",
              "<table border=\"1\" class=\"dataframe\">\n",
              "  <thead>\n",
              "    <tr style=\"text-align: right;\">\n",
              "      <th></th>\n",
              "      <th>Code</th>\n",
              "      <th>Linea_Aerea</th>\n",
              "    </tr>\n",
              "  </thead>\n",
              "  <tbody>\n",
              "    <tr>\n",
              "      <th>0</th>\n",
              "      <td>AA</td>\n",
              "      <td>American Airlines</td>\n",
              "    </tr>\n",
              "    <tr>\n",
              "      <th>1</th>\n",
              "      <td>SW</td>\n",
              "      <td>Southwest</td>\n",
              "    </tr>\n",
              "    <tr>\n",
              "      <th>2</th>\n",
              "      <td>AM</td>\n",
              "      <td>Aeromexico</td>\n",
              "    </tr>\n",
              "    <tr>\n",
              "      <th>3</th>\n",
              "      <td>AV</td>\n",
              "      <td>Avianca</td>\n",
              "    </tr>\n",
              "    <tr>\n",
              "      <th>4</th>\n",
              "      <td>KL</td>\n",
              "      <td>KLM</td>\n",
              "    </tr>\n",
              "  </tbody>\n",
              "</table>\n",
              "</div>"
            ],
            "text/plain": [
              "  Code        Linea_Aerea\n",
              "0   AA  American Airlines\n",
              "1   SW          Southwest\n",
              "2   AM         Aeromexico\n",
              "3   AV            Avianca\n",
              "4   KL                KLM"
            ]
          },
          "metadata": {
            "tags": []
          },
          "execution_count": 31
        }
      ]
    },
    {
      "cell_type": "markdown",
      "metadata": {
        "id": "ZnoVwD0qlun9"
      },
      "source": [
        "##3.- Relacionar lista de vuelos con pasajeros."
      ]
    },
    {
      "cell_type": "markdown",
      "metadata": {
        "id": "fAh0eoUol0vX"
      },
      "source": [
        "Teniendo ya lo solicitado en el punto dos, se procede a realizar el punto tres. El cuál pide relacionar los datos de los pasajeros con los datos de los vuelos.\n",
        "\n",
        "Como se puede observar, en la información unificada de cada lista podemos encontrar que existe una columna en común, aunque no tengan el mismo nombre. En este caso las columnas que coinciden son las de 'Cve_Cliente' en la lista de viajes y 'ID_Pasajero' en la lista de pasajeros."
      ]
    },
    {
      "cell_type": "code",
      "metadata": {
        "colab": {
          "base_uri": "https://localhost:8080/",
          "height": 227
        },
        "id": "cwuKQ0Hdl5KT",
        "outputId": "8d1fa13f-c09d-43f4-9a2f-117c88e2931a"
      },
      "source": [
        "ListaPasajerosUnificada.head()"
      ],
      "execution_count": 33,
      "outputs": [
        {
          "output_type": "execute_result",
          "data": {
            "text/html": [
              "<div>\n",
              "<style scoped>\n",
              "    .dataframe tbody tr th:only-of-type {\n",
              "        vertical-align: middle;\n",
              "    }\n",
              "\n",
              "    .dataframe tbody tr th {\n",
              "        vertical-align: top;\n",
              "    }\n",
              "\n",
              "    .dataframe thead th {\n",
              "        text-align: right;\n",
              "    }\n",
              "</style>\n",
              "<table border=\"1\" class=\"dataframe\">\n",
              "  <thead>\n",
              "    <tr style=\"text-align: right;\">\n",
              "      <th></th>\n",
              "      <th>Pasajero</th>\n",
              "      <th>Edad</th>\n",
              "    </tr>\n",
              "    <tr>\n",
              "      <th>ID_Pasajero</th>\n",
              "      <th></th>\n",
              "      <th></th>\n",
              "    </tr>\n",
              "  </thead>\n",
              "  <tbody>\n",
              "    <tr>\n",
              "      <th>576</th>\n",
              "      <td>Danielle Thompson</td>\n",
              "      <td>60</td>\n",
              "    </tr>\n",
              "    <tr>\n",
              "      <th>579</th>\n",
              "      <td>Natalie Cuevas</td>\n",
              "      <td>49</td>\n",
              "    </tr>\n",
              "    <tr>\n",
              "      <th>683</th>\n",
              "      <td>John Murray</td>\n",
              "      <td>28</td>\n",
              "    </tr>\n",
              "    <tr>\n",
              "      <th>681</th>\n",
              "      <td>Michael Jacobs</td>\n",
              "      <td>24</td>\n",
              "    </tr>\n",
              "    <tr>\n",
              "      <th>592</th>\n",
              "      <td>Brian Hunt</td>\n",
              "      <td>40</td>\n",
              "    </tr>\n",
              "  </tbody>\n",
              "</table>\n",
              "</div>"
            ],
            "text/plain": [
              "                      Pasajero  Edad\n",
              "ID_Pasajero                         \n",
              "576          Danielle Thompson    60\n",
              "579             Natalie Cuevas    49\n",
              "683                John Murray    28\n",
              "681             Michael Jacobs    24\n",
              "592                 Brian Hunt    40"
            ]
          },
          "metadata": {
            "tags": []
          },
          "execution_count": 33
        }
      ]
    },
    {
      "cell_type": "code",
      "metadata": {
        "colab": {
          "base_uri": "https://localhost:8080/",
          "height": 227
        },
        "id": "Iqh1upDXl_K7",
        "outputId": "0e801a2f-7d3b-4d20-936c-e9114f162da2"
      },
      "source": [
        "ListaDeViajesUnifacada.head()"
      ],
      "execution_count": 34,
      "outputs": [
        {
          "output_type": "execute_result",
          "data": {
            "text/html": [
              "<div>\n",
              "<style scoped>\n",
              "    .dataframe tbody tr th:only-of-type {\n",
              "        vertical-align: middle;\n",
              "    }\n",
              "\n",
              "    .dataframe tbody tr th {\n",
              "        vertical-align: top;\n",
              "    }\n",
              "\n",
              "    .dataframe thead th {\n",
              "        text-align: right;\n",
              "    }\n",
              "</style>\n",
              "<table border=\"1\" class=\"dataframe\">\n",
              "  <thead>\n",
              "    <tr style=\"text-align: right;\">\n",
              "      <th></th>\n",
              "      <th>Cve_LA</th>\n",
              "      <th>Viaje</th>\n",
              "      <th>Clase</th>\n",
              "      <th>Precio</th>\n",
              "      <th>Ruta</th>\n",
              "    </tr>\n",
              "    <tr>\n",
              "      <th>Cve_Cliente</th>\n",
              "      <th></th>\n",
              "      <th></th>\n",
              "      <th></th>\n",
              "      <th></th>\n",
              "      <th></th>\n",
              "    </tr>\n",
              "  </thead>\n",
              "  <tbody>\n",
              "    <tr>\n",
              "      <th>553</th>\n",
              "      <td>SW</td>\n",
              "      <td>9/10/2016</td>\n",
              "      <td>Economy</td>\n",
              "      <td>60</td>\n",
              "      <td>DAL-MDW</td>\n",
              "    </tr>\n",
              "    <tr>\n",
              "      <th>554</th>\n",
              "      <td>AA</td>\n",
              "      <td>6/11/2016</td>\n",
              "      <td>Economy</td>\n",
              "      <td>150</td>\n",
              "      <td>DAL-SLC</td>\n",
              "    </tr>\n",
              "    <tr>\n",
              "      <th>554</th>\n",
              "      <td>DA</td>\n",
              "      <td>9/21/2016</td>\n",
              "      <td>Economy</td>\n",
              "      <td>68</td>\n",
              "      <td>DAL-AMA</td>\n",
              "    </tr>\n",
              "    <tr>\n",
              "      <th>556</th>\n",
              "      <td>UA</td>\n",
              "      <td>6/28/2016</td>\n",
              "      <td>Business</td>\n",
              "      <td>160</td>\n",
              "      <td>DAL-SLC</td>\n",
              "    </tr>\n",
              "    <tr>\n",
              "      <th>557</th>\n",
              "      <td>SW</td>\n",
              "      <td>6/25/2016</td>\n",
              "      <td>Economy</td>\n",
              "      <td>65</td>\n",
              "      <td>DAL-OKC</td>\n",
              "    </tr>\n",
              "  </tbody>\n",
              "</table>\n",
              "</div>"
            ],
            "text/plain": [
              "            Cve_LA      Viaje     Clase  Precio     Ruta\n",
              "Cve_Cliente                                             \n",
              "553             SW  9/10/2016   Economy      60  DAL-MDW\n",
              "554             AA  6/11/2016   Economy     150  DAL-SLC\n",
              "554             DA  9/21/2016   Economy      68  DAL-AMA\n",
              "556             UA  6/28/2016  Business     160  DAL-SLC\n",
              "557             SW  6/25/2016   Economy      65  DAL-OKC"
            ]
          },
          "metadata": {
            "tags": []
          },
          "execution_count": 34
        }
      ]
    },
    {
      "cell_type": "markdown",
      "metadata": {
        "id": "yaAraxl4mLmV"
      },
      "source": [
        "Una vez comprobado que tienen una columna en común, se procede a unir ambas tablas."
      ]
    },
    {
      "cell_type": "code",
      "metadata": {
        "colab": {
          "base_uri": "https://localhost:8080/",
          "height": 197
        },
        "id": "6TvMbG72aAkm",
        "outputId": "d0f5cb5e-b4ec-4a60-82c7-635f73736409"
      },
      "source": [
        "ViajesPasajerosUnificado = ListaDeViajesUnifacada.join(ListaPasajerosUnificada,how='left',lsuffix='Viajes',rsuffix='Pasajeros')\n",
        "ViajesPasajerosUnificado.head()"
      ],
      "execution_count": 35,
      "outputs": [
        {
          "output_type": "execute_result",
          "data": {
            "text/html": [
              "<div>\n",
              "<style scoped>\n",
              "    .dataframe tbody tr th:only-of-type {\n",
              "        vertical-align: middle;\n",
              "    }\n",
              "\n",
              "    .dataframe tbody tr th {\n",
              "        vertical-align: top;\n",
              "    }\n",
              "\n",
              "    .dataframe thead th {\n",
              "        text-align: right;\n",
              "    }\n",
              "</style>\n",
              "<table border=\"1\" class=\"dataframe\">\n",
              "  <thead>\n",
              "    <tr style=\"text-align: right;\">\n",
              "      <th></th>\n",
              "      <th>Cve_LA</th>\n",
              "      <th>Viaje</th>\n",
              "      <th>Clase</th>\n",
              "      <th>Precio</th>\n",
              "      <th>Ruta</th>\n",
              "      <th>Pasajero</th>\n",
              "      <th>Edad</th>\n",
              "    </tr>\n",
              "  </thead>\n",
              "  <tbody>\n",
              "    <tr>\n",
              "      <th>38</th>\n",
              "      <td>DA</td>\n",
              "      <td>1/2/2017</td>\n",
              "      <td>Economy</td>\n",
              "      <td>84</td>\n",
              "      <td>DAL-AUS</td>\n",
              "      <td>Anemone Ratner</td>\n",
              "      <td>39</td>\n",
              "    </tr>\n",
              "    <tr>\n",
              "      <th>38</th>\n",
              "      <td>UA</td>\n",
              "      <td>1/2/2017</td>\n",
              "      <td>Economy</td>\n",
              "      <td>78</td>\n",
              "      <td>DAL-PHX</td>\n",
              "      <td>Anemone Ratner</td>\n",
              "      <td>39</td>\n",
              "    </tr>\n",
              "    <tr>\n",
              "      <th>38</th>\n",
              "      <td>SW</td>\n",
              "      <td>1/2/2017</td>\n",
              "      <td>Business</td>\n",
              "      <td>102</td>\n",
              "      <td>DAL-SEA</td>\n",
              "      <td>Anemone Ratner</td>\n",
              "      <td>39</td>\n",
              "    </tr>\n",
              "    <tr>\n",
              "      <th>38</th>\n",
              "      <td>SW</td>\n",
              "      <td>1/2/2017</td>\n",
              "      <td>First Class</td>\n",
              "      <td>222</td>\n",
              "      <td>DAL-HOU</td>\n",
              "      <td>Anemone Ratner</td>\n",
              "      <td>39</td>\n",
              "    </tr>\n",
              "    <tr>\n",
              "      <th>38</th>\n",
              "      <td>AA</td>\n",
              "      <td>1/2/2017</td>\n",
              "      <td>Economy</td>\n",
              "      <td>104</td>\n",
              "      <td>DAL-OKC</td>\n",
              "      <td>Anemone Ratner</td>\n",
              "      <td>39</td>\n",
              "    </tr>\n",
              "  </tbody>\n",
              "</table>\n",
              "</div>"
            ],
            "text/plain": [
              "   Cve_LA     Viaje        Clase  Precio     Ruta        Pasajero  Edad\n",
              "38     DA  1/2/2017      Economy      84  DAL-AUS  Anemone Ratner    39\n",
              "38     UA  1/2/2017      Economy      78  DAL-PHX  Anemone Ratner    39\n",
              "38     SW  1/2/2017     Business     102  DAL-SEA  Anemone Ratner    39\n",
              "38     SW  1/2/2017  First Class     222  DAL-HOU  Anemone Ratner    39\n",
              "38     AA  1/2/2017      Economy     104  DAL-OKC  Anemone Ratner    39"
            ]
          },
          "metadata": {
            "tags": []
          },
          "execution_count": 35
        }
      ]
    },
    {
      "cell_type": "markdown",
      "metadata": {
        "id": "kNgRGlrdmQcY"
      },
      "source": [
        "En este caso se utilizó una unión por la izquierda para que sea la tabla de pasajeros quien se añada a la tabla de los viajes. Se unieron de esta manera porque se cree que el orden no afectaría al posterior análisis. Con la unión de estas columnas se termina el paso tres."
      ]
    },
    {
      "cell_type": "markdown",
      "metadata": {
        "id": "l-SapRP2mUyG"
      },
      "source": [
        "##4.-Consolidar lista de pasajeros, lista de vuelos y aerolíneas."
      ]
    },
    {
      "cell_type": "markdown",
      "metadata": {
        "id": "D4_-RcXVmc4z"
      },
      "source": [
        "El paso cuatro nos indica unir la información de los pasajeros y los vuelos con la información de las aerolíneas y en caso de no encontrar relación usar el valor \"Otra\". También se solicita dejar solo las siguientes columnas:\n",
        "* Fecha del viaje.\n",
        "* Clase.\n",
        "* Precio.\n",
        "* Ruta.\n",
        "* Edad.\n",
        "* Linea aérea."
      ]
    },
    {
      "cell_type": "markdown",
      "metadata": {
        "id": "N1lfQCAfmiLy"
      },
      "source": [
        "Antes de proceder a hacer la unión de las tablas primero hay que corregir el indice en la tabla resultante del paso anterior. Esto para hacer la búsqueda por indice más fácil. Para lo cual hay que restablecer el indicie y renombrar la columna resultante."
      ]
    },
    {
      "cell_type": "code",
      "metadata": {
        "id": "WUjbRhK9fZKo"
      },
      "source": [
        "ViajesPasajerosUnificado.reset_index(inplace=True)"
      ],
      "execution_count": 36,
      "outputs": []
    },
    {
      "cell_type": "code",
      "metadata": {
        "colab": {
          "base_uri": "https://localhost:8080/",
          "height": 197
        },
        "id": "1VzkAe2DfpsD",
        "outputId": "8c63eb06-c06f-4cf8-e2d5-a6717a4edceb"
      },
      "source": [
        "ViajesPasajerosUnificado.head()"
      ],
      "execution_count": 37,
      "outputs": [
        {
          "output_type": "execute_result",
          "data": {
            "text/html": [
              "<div>\n",
              "<style scoped>\n",
              "    .dataframe tbody tr th:only-of-type {\n",
              "        vertical-align: middle;\n",
              "    }\n",
              "\n",
              "    .dataframe tbody tr th {\n",
              "        vertical-align: top;\n",
              "    }\n",
              "\n",
              "    .dataframe thead th {\n",
              "        text-align: right;\n",
              "    }\n",
              "</style>\n",
              "<table border=\"1\" class=\"dataframe\">\n",
              "  <thead>\n",
              "    <tr style=\"text-align: right;\">\n",
              "      <th></th>\n",
              "      <th>index</th>\n",
              "      <th>Cve_LA</th>\n",
              "      <th>Viaje</th>\n",
              "      <th>Clase</th>\n",
              "      <th>Precio</th>\n",
              "      <th>Ruta</th>\n",
              "      <th>Pasajero</th>\n",
              "      <th>Edad</th>\n",
              "    </tr>\n",
              "  </thead>\n",
              "  <tbody>\n",
              "    <tr>\n",
              "      <th>0</th>\n",
              "      <td>38</td>\n",
              "      <td>DA</td>\n",
              "      <td>1/2/2017</td>\n",
              "      <td>Economy</td>\n",
              "      <td>84</td>\n",
              "      <td>DAL-AUS</td>\n",
              "      <td>Anemone Ratner</td>\n",
              "      <td>39</td>\n",
              "    </tr>\n",
              "    <tr>\n",
              "      <th>1</th>\n",
              "      <td>38</td>\n",
              "      <td>UA</td>\n",
              "      <td>1/2/2017</td>\n",
              "      <td>Economy</td>\n",
              "      <td>78</td>\n",
              "      <td>DAL-PHX</td>\n",
              "      <td>Anemone Ratner</td>\n",
              "      <td>39</td>\n",
              "    </tr>\n",
              "    <tr>\n",
              "      <th>2</th>\n",
              "      <td>38</td>\n",
              "      <td>SW</td>\n",
              "      <td>1/2/2017</td>\n",
              "      <td>Business</td>\n",
              "      <td>102</td>\n",
              "      <td>DAL-SEA</td>\n",
              "      <td>Anemone Ratner</td>\n",
              "      <td>39</td>\n",
              "    </tr>\n",
              "    <tr>\n",
              "      <th>3</th>\n",
              "      <td>38</td>\n",
              "      <td>SW</td>\n",
              "      <td>1/2/2017</td>\n",
              "      <td>First Class</td>\n",
              "      <td>222</td>\n",
              "      <td>DAL-HOU</td>\n",
              "      <td>Anemone Ratner</td>\n",
              "      <td>39</td>\n",
              "    </tr>\n",
              "    <tr>\n",
              "      <th>4</th>\n",
              "      <td>38</td>\n",
              "      <td>AA</td>\n",
              "      <td>1/2/2017</td>\n",
              "      <td>Economy</td>\n",
              "      <td>104</td>\n",
              "      <td>DAL-OKC</td>\n",
              "      <td>Anemone Ratner</td>\n",
              "      <td>39</td>\n",
              "    </tr>\n",
              "  </tbody>\n",
              "</table>\n",
              "</div>"
            ],
            "text/plain": [
              "   index Cve_LA     Viaje        Clase  Precio     Ruta        Pasajero  Edad\n",
              "0     38     DA  1/2/2017      Economy      84  DAL-AUS  Anemone Ratner    39\n",
              "1     38     UA  1/2/2017      Economy      78  DAL-PHX  Anemone Ratner    39\n",
              "2     38     SW  1/2/2017     Business     102  DAL-SEA  Anemone Ratner    39\n",
              "3     38     SW  1/2/2017  First Class     222  DAL-HOU  Anemone Ratner    39\n",
              "4     38     AA  1/2/2017      Economy     104  DAL-OKC  Anemone Ratner    39"
            ]
          },
          "metadata": {
            "tags": []
          },
          "execution_count": 37
        }
      ]
    },
    {
      "cell_type": "code",
      "metadata": {
        "id": "yxopkAQOf4_u"
      },
      "source": [
        "ViajesPasajerosUnificado.rename(columns={'index':'ID_Pasajero'}, inplace=True)"
      ],
      "execution_count": 38,
      "outputs": []
    },
    {
      "cell_type": "code",
      "metadata": {
        "colab": {
          "base_uri": "https://localhost:8080/",
          "height": 197
        },
        "id": "d7sunEuXmv75",
        "outputId": "84bc32a7-4f82-4e75-fab5-0ca7cb2c63c6"
      },
      "source": [
        "ViajesPasajerosUnificado.head()"
      ],
      "execution_count": 39,
      "outputs": [
        {
          "output_type": "execute_result",
          "data": {
            "text/html": [
              "<div>\n",
              "<style scoped>\n",
              "    .dataframe tbody tr th:only-of-type {\n",
              "        vertical-align: middle;\n",
              "    }\n",
              "\n",
              "    .dataframe tbody tr th {\n",
              "        vertical-align: top;\n",
              "    }\n",
              "\n",
              "    .dataframe thead th {\n",
              "        text-align: right;\n",
              "    }\n",
              "</style>\n",
              "<table border=\"1\" class=\"dataframe\">\n",
              "  <thead>\n",
              "    <tr style=\"text-align: right;\">\n",
              "      <th></th>\n",
              "      <th>ID_Pasajero</th>\n",
              "      <th>Cve_LA</th>\n",
              "      <th>Viaje</th>\n",
              "      <th>Clase</th>\n",
              "      <th>Precio</th>\n",
              "      <th>Ruta</th>\n",
              "      <th>Pasajero</th>\n",
              "      <th>Edad</th>\n",
              "    </tr>\n",
              "  </thead>\n",
              "  <tbody>\n",
              "    <tr>\n",
              "      <th>0</th>\n",
              "      <td>38</td>\n",
              "      <td>DA</td>\n",
              "      <td>1/2/2017</td>\n",
              "      <td>Economy</td>\n",
              "      <td>84</td>\n",
              "      <td>DAL-AUS</td>\n",
              "      <td>Anemone Ratner</td>\n",
              "      <td>39</td>\n",
              "    </tr>\n",
              "    <tr>\n",
              "      <th>1</th>\n",
              "      <td>38</td>\n",
              "      <td>UA</td>\n",
              "      <td>1/2/2017</td>\n",
              "      <td>Economy</td>\n",
              "      <td>78</td>\n",
              "      <td>DAL-PHX</td>\n",
              "      <td>Anemone Ratner</td>\n",
              "      <td>39</td>\n",
              "    </tr>\n",
              "    <tr>\n",
              "      <th>2</th>\n",
              "      <td>38</td>\n",
              "      <td>SW</td>\n",
              "      <td>1/2/2017</td>\n",
              "      <td>Business</td>\n",
              "      <td>102</td>\n",
              "      <td>DAL-SEA</td>\n",
              "      <td>Anemone Ratner</td>\n",
              "      <td>39</td>\n",
              "    </tr>\n",
              "    <tr>\n",
              "      <th>3</th>\n",
              "      <td>38</td>\n",
              "      <td>SW</td>\n",
              "      <td>1/2/2017</td>\n",
              "      <td>First Class</td>\n",
              "      <td>222</td>\n",
              "      <td>DAL-HOU</td>\n",
              "      <td>Anemone Ratner</td>\n",
              "      <td>39</td>\n",
              "    </tr>\n",
              "    <tr>\n",
              "      <th>4</th>\n",
              "      <td>38</td>\n",
              "      <td>AA</td>\n",
              "      <td>1/2/2017</td>\n",
              "      <td>Economy</td>\n",
              "      <td>104</td>\n",
              "      <td>DAL-OKC</td>\n",
              "      <td>Anemone Ratner</td>\n",
              "      <td>39</td>\n",
              "    </tr>\n",
              "  </tbody>\n",
              "</table>\n",
              "</div>"
            ],
            "text/plain": [
              "   ID_Pasajero Cve_LA     Viaje  ...     Ruta        Pasajero Edad\n",
              "0           38     DA  1/2/2017  ...  DAL-AUS  Anemone Ratner   39\n",
              "1           38     UA  1/2/2017  ...  DAL-PHX  Anemone Ratner   39\n",
              "2           38     SW  1/2/2017  ...  DAL-SEA  Anemone Ratner   39\n",
              "3           38     SW  1/2/2017  ...  DAL-HOU  Anemone Ratner   39\n",
              "4           38     AA  1/2/2017  ...  DAL-OKC  Anemone Ratner   39\n",
              "\n",
              "[5 rows x 8 columns]"
            ]
          },
          "metadata": {
            "tags": []
          },
          "execution_count": 39
        }
      ]
    },
    {
      "cell_type": "markdown",
      "metadata": {
        "id": "IJO94ZEmmuxJ"
      },
      "source": [
        "Solo como medida preventiva, guardamos la tabla generada en un nuevo archivo *.csv*."
      ]
    },
    {
      "cell_type": "code",
      "metadata": {
        "id": "7n338AgOcGT_"
      },
      "source": [
        "ViajesPasajerosUnificado.to_csv('ViajesUnif.csv')"
      ],
      "execution_count": 40,
      "outputs": []
    },
    {
      "cell_type": "code",
      "metadata": {
        "colab": {
          "base_uri": "https://localhost:8080/",
          "height": 197
        },
        "id": "FEKhrPt2cPDC",
        "outputId": "36cbce96-da43-4fab-c2b0-721714cf58a8"
      },
      "source": [
        "DFListaAeorilineas.head()"
      ],
      "execution_count": 41,
      "outputs": [
        {
          "output_type": "execute_result",
          "data": {
            "text/html": [
              "<div>\n",
              "<style scoped>\n",
              "    .dataframe tbody tr th:only-of-type {\n",
              "        vertical-align: middle;\n",
              "    }\n",
              "\n",
              "    .dataframe tbody tr th {\n",
              "        vertical-align: top;\n",
              "    }\n",
              "\n",
              "    .dataframe thead th {\n",
              "        text-align: right;\n",
              "    }\n",
              "</style>\n",
              "<table border=\"1\" class=\"dataframe\">\n",
              "  <thead>\n",
              "    <tr style=\"text-align: right;\">\n",
              "      <th></th>\n",
              "      <th>Code</th>\n",
              "      <th>Linea_Aerea</th>\n",
              "    </tr>\n",
              "  </thead>\n",
              "  <tbody>\n",
              "    <tr>\n",
              "      <th>0</th>\n",
              "      <td>AA</td>\n",
              "      <td>American Airlines</td>\n",
              "    </tr>\n",
              "    <tr>\n",
              "      <th>1</th>\n",
              "      <td>SW</td>\n",
              "      <td>Southwest</td>\n",
              "    </tr>\n",
              "    <tr>\n",
              "      <th>2</th>\n",
              "      <td>AM</td>\n",
              "      <td>Aeromexico</td>\n",
              "    </tr>\n",
              "    <tr>\n",
              "      <th>3</th>\n",
              "      <td>AV</td>\n",
              "      <td>Avianca</td>\n",
              "    </tr>\n",
              "    <tr>\n",
              "      <th>4</th>\n",
              "      <td>KL</td>\n",
              "      <td>KLM</td>\n",
              "    </tr>\n",
              "  </tbody>\n",
              "</table>\n",
              "</div>"
            ],
            "text/plain": [
              "  Code        Linea_Aerea\n",
              "0   AA  American Airlines\n",
              "1   SW          Southwest\n",
              "2   AM         Aeromexico\n",
              "3   AV            Avianca\n",
              "4   KL                KLM"
            ]
          },
          "metadata": {
            "tags": []
          },
          "execution_count": 41
        }
      ]
    },
    {
      "cell_type": "markdown",
      "metadata": {
        "id": "G6laI9yXm33H"
      },
      "source": [
        "Se observa que la columna 'Code' corresponde con la columna 'Cve_LA' por lo que se procede a renombra la columna 'Code'."
      ]
    },
    {
      "cell_type": "code",
      "metadata": {
        "id": "9xNibx7AjDv1"
      },
      "source": [
        "DFListaAeorilineas.rename(columns={'Code':'Cve_LA'},inplace=True)"
      ],
      "execution_count": 42,
      "outputs": []
    },
    {
      "cell_type": "markdown",
      "metadata": {
        "id": "RZpttmA0m_x4"
      },
      "source": [
        "Comprobamos el resultado."
      ]
    },
    {
      "cell_type": "code",
      "metadata": {
        "colab": {
          "base_uri": "https://localhost:8080/",
          "height": 197
        },
        "id": "V6MwO9RBnBPu",
        "outputId": "a2bad90c-7f43-40e6-da97-c068b4b977df"
      },
      "source": [
        "DFListaAeorilineas.head()"
      ],
      "execution_count": 43,
      "outputs": [
        {
          "output_type": "execute_result",
          "data": {
            "text/html": [
              "<div>\n",
              "<style scoped>\n",
              "    .dataframe tbody tr th:only-of-type {\n",
              "        vertical-align: middle;\n",
              "    }\n",
              "\n",
              "    .dataframe tbody tr th {\n",
              "        vertical-align: top;\n",
              "    }\n",
              "\n",
              "    .dataframe thead th {\n",
              "        text-align: right;\n",
              "    }\n",
              "</style>\n",
              "<table border=\"1\" class=\"dataframe\">\n",
              "  <thead>\n",
              "    <tr style=\"text-align: right;\">\n",
              "      <th></th>\n",
              "      <th>Cve_LA</th>\n",
              "      <th>Linea_Aerea</th>\n",
              "    </tr>\n",
              "  </thead>\n",
              "  <tbody>\n",
              "    <tr>\n",
              "      <th>0</th>\n",
              "      <td>AA</td>\n",
              "      <td>American Airlines</td>\n",
              "    </tr>\n",
              "    <tr>\n",
              "      <th>1</th>\n",
              "      <td>SW</td>\n",
              "      <td>Southwest</td>\n",
              "    </tr>\n",
              "    <tr>\n",
              "      <th>2</th>\n",
              "      <td>AM</td>\n",
              "      <td>Aeromexico</td>\n",
              "    </tr>\n",
              "    <tr>\n",
              "      <th>3</th>\n",
              "      <td>AV</td>\n",
              "      <td>Avianca</td>\n",
              "    </tr>\n",
              "    <tr>\n",
              "      <th>4</th>\n",
              "      <td>KL</td>\n",
              "      <td>KLM</td>\n",
              "    </tr>\n",
              "  </tbody>\n",
              "</table>\n",
              "</div>"
            ],
            "text/plain": [
              "  Cve_LA        Linea_Aerea\n",
              "0     AA  American Airlines\n",
              "1     SW          Southwest\n",
              "2     AM         Aeromexico\n",
              "3     AV            Avianca\n",
              "4     KL                KLM"
            ]
          },
          "metadata": {
            "tags": []
          },
          "execution_count": 43
        }
      ]
    },
    {
      "cell_type": "markdown",
      "metadata": {
        "id": "MP0BUt0XnJZL"
      },
      "source": [
        "Nos aseguramos que ambas tablas contengan dichas columnas."
      ]
    },
    {
      "cell_type": "code",
      "metadata": {
        "colab": {
          "base_uri": "https://localhost:8080/",
          "height": 197
        },
        "id": "eaB4mJ7sj-rA",
        "outputId": "7372c9f7-2023-46c8-83f2-6a88fb52da78"
      },
      "source": [
        "ViajesPasajerosUnificado.head()"
      ],
      "execution_count": 44,
      "outputs": [
        {
          "output_type": "execute_result",
          "data": {
            "text/html": [
              "<div>\n",
              "<style scoped>\n",
              "    .dataframe tbody tr th:only-of-type {\n",
              "        vertical-align: middle;\n",
              "    }\n",
              "\n",
              "    .dataframe tbody tr th {\n",
              "        vertical-align: top;\n",
              "    }\n",
              "\n",
              "    .dataframe thead th {\n",
              "        text-align: right;\n",
              "    }\n",
              "</style>\n",
              "<table border=\"1\" class=\"dataframe\">\n",
              "  <thead>\n",
              "    <tr style=\"text-align: right;\">\n",
              "      <th></th>\n",
              "      <th>ID_Pasajero</th>\n",
              "      <th>Cve_LA</th>\n",
              "      <th>Viaje</th>\n",
              "      <th>Clase</th>\n",
              "      <th>Precio</th>\n",
              "      <th>Ruta</th>\n",
              "      <th>Pasajero</th>\n",
              "      <th>Edad</th>\n",
              "    </tr>\n",
              "  </thead>\n",
              "  <tbody>\n",
              "    <tr>\n",
              "      <th>0</th>\n",
              "      <td>38</td>\n",
              "      <td>DA</td>\n",
              "      <td>1/2/2017</td>\n",
              "      <td>Economy</td>\n",
              "      <td>84</td>\n",
              "      <td>DAL-AUS</td>\n",
              "      <td>Anemone Ratner</td>\n",
              "      <td>39</td>\n",
              "    </tr>\n",
              "    <tr>\n",
              "      <th>1</th>\n",
              "      <td>38</td>\n",
              "      <td>UA</td>\n",
              "      <td>1/2/2017</td>\n",
              "      <td>Economy</td>\n",
              "      <td>78</td>\n",
              "      <td>DAL-PHX</td>\n",
              "      <td>Anemone Ratner</td>\n",
              "      <td>39</td>\n",
              "    </tr>\n",
              "    <tr>\n",
              "      <th>2</th>\n",
              "      <td>38</td>\n",
              "      <td>SW</td>\n",
              "      <td>1/2/2017</td>\n",
              "      <td>Business</td>\n",
              "      <td>102</td>\n",
              "      <td>DAL-SEA</td>\n",
              "      <td>Anemone Ratner</td>\n",
              "      <td>39</td>\n",
              "    </tr>\n",
              "    <tr>\n",
              "      <th>3</th>\n",
              "      <td>38</td>\n",
              "      <td>SW</td>\n",
              "      <td>1/2/2017</td>\n",
              "      <td>First Class</td>\n",
              "      <td>222</td>\n",
              "      <td>DAL-HOU</td>\n",
              "      <td>Anemone Ratner</td>\n",
              "      <td>39</td>\n",
              "    </tr>\n",
              "    <tr>\n",
              "      <th>4</th>\n",
              "      <td>38</td>\n",
              "      <td>AA</td>\n",
              "      <td>1/2/2017</td>\n",
              "      <td>Economy</td>\n",
              "      <td>104</td>\n",
              "      <td>DAL-OKC</td>\n",
              "      <td>Anemone Ratner</td>\n",
              "      <td>39</td>\n",
              "    </tr>\n",
              "  </tbody>\n",
              "</table>\n",
              "</div>"
            ],
            "text/plain": [
              "   ID_Pasajero Cve_LA     Viaje  ...     Ruta        Pasajero Edad\n",
              "0           38     DA  1/2/2017  ...  DAL-AUS  Anemone Ratner   39\n",
              "1           38     UA  1/2/2017  ...  DAL-PHX  Anemone Ratner   39\n",
              "2           38     SW  1/2/2017  ...  DAL-SEA  Anemone Ratner   39\n",
              "3           38     SW  1/2/2017  ...  DAL-HOU  Anemone Ratner   39\n",
              "4           38     AA  1/2/2017  ...  DAL-OKC  Anemone Ratner   39\n",
              "\n",
              "[5 rows x 8 columns]"
            ]
          },
          "metadata": {
            "tags": []
          },
          "execution_count": 44
        }
      ]
    },
    {
      "cell_type": "markdown",
      "metadata": {
        "id": "sThpUBdlnTl8"
      },
      "source": [
        "Ya teniendo una columan en común, se procede a hacer la unión."
      ]
    },
    {
      "cell_type": "code",
      "metadata": {
        "id": "GePv06-5g1Rr"
      },
      "source": [
        "InfoUnificada = ViajesPasajerosUnificado.merge(DFListaAeorilineas,how='left',on='Cve_LA')"
      ],
      "execution_count": 45,
      "outputs": []
    },
    {
      "cell_type": "markdown",
      "metadata": {
        "id": "je84yFOinV8_"
      },
      "source": [
        "Nuevamente se hizo unión por la izquierda, ya que el orden no supone un problema.\n",
        "\n",
        "Comprobamos el resultado."
      ]
    },
    {
      "cell_type": "code",
      "metadata": {
        "colab": {
          "base_uri": "https://localhost:8080/",
          "height": 197
        },
        "id": "As5sMjL3kd6O",
        "outputId": "396aaace-f68e-499d-f192-320a8519de2c"
      },
      "source": [
        "InfoUnificada.head()"
      ],
      "execution_count": 46,
      "outputs": [
        {
          "output_type": "execute_result",
          "data": {
            "text/html": [
              "<div>\n",
              "<style scoped>\n",
              "    .dataframe tbody tr th:only-of-type {\n",
              "        vertical-align: middle;\n",
              "    }\n",
              "\n",
              "    .dataframe tbody tr th {\n",
              "        vertical-align: top;\n",
              "    }\n",
              "\n",
              "    .dataframe thead th {\n",
              "        text-align: right;\n",
              "    }\n",
              "</style>\n",
              "<table border=\"1\" class=\"dataframe\">\n",
              "  <thead>\n",
              "    <tr style=\"text-align: right;\">\n",
              "      <th></th>\n",
              "      <th>ID_Pasajero</th>\n",
              "      <th>Cve_LA</th>\n",
              "      <th>Viaje</th>\n",
              "      <th>Clase</th>\n",
              "      <th>Precio</th>\n",
              "      <th>Ruta</th>\n",
              "      <th>Pasajero</th>\n",
              "      <th>Edad</th>\n",
              "      <th>Linea_Aerea</th>\n",
              "    </tr>\n",
              "  </thead>\n",
              "  <tbody>\n",
              "    <tr>\n",
              "      <th>0</th>\n",
              "      <td>38</td>\n",
              "      <td>DA</td>\n",
              "      <td>1/2/2017</td>\n",
              "      <td>Economy</td>\n",
              "      <td>84</td>\n",
              "      <td>DAL-AUS</td>\n",
              "      <td>Anemone Ratner</td>\n",
              "      <td>39</td>\n",
              "      <td>NaN</td>\n",
              "    </tr>\n",
              "    <tr>\n",
              "      <th>1</th>\n",
              "      <td>38</td>\n",
              "      <td>UA</td>\n",
              "      <td>1/2/2017</td>\n",
              "      <td>Economy</td>\n",
              "      <td>78</td>\n",
              "      <td>DAL-PHX</td>\n",
              "      <td>Anemone Ratner</td>\n",
              "      <td>39</td>\n",
              "      <td>NaN</td>\n",
              "    </tr>\n",
              "    <tr>\n",
              "      <th>2</th>\n",
              "      <td>38</td>\n",
              "      <td>SW</td>\n",
              "      <td>1/2/2017</td>\n",
              "      <td>Business</td>\n",
              "      <td>102</td>\n",
              "      <td>DAL-SEA</td>\n",
              "      <td>Anemone Ratner</td>\n",
              "      <td>39</td>\n",
              "      <td>Southwest</td>\n",
              "    </tr>\n",
              "    <tr>\n",
              "      <th>3</th>\n",
              "      <td>38</td>\n",
              "      <td>SW</td>\n",
              "      <td>1/2/2017</td>\n",
              "      <td>First Class</td>\n",
              "      <td>222</td>\n",
              "      <td>DAL-HOU</td>\n",
              "      <td>Anemone Ratner</td>\n",
              "      <td>39</td>\n",
              "      <td>Southwest</td>\n",
              "    </tr>\n",
              "    <tr>\n",
              "      <th>4</th>\n",
              "      <td>38</td>\n",
              "      <td>AA</td>\n",
              "      <td>1/2/2017</td>\n",
              "      <td>Economy</td>\n",
              "      <td>104</td>\n",
              "      <td>DAL-OKC</td>\n",
              "      <td>Anemone Ratner</td>\n",
              "      <td>39</td>\n",
              "      <td>American Airlines</td>\n",
              "    </tr>\n",
              "  </tbody>\n",
              "</table>\n",
              "</div>"
            ],
            "text/plain": [
              "   ID_Pasajero Cve_LA     Viaje  ...        Pasajero  Edad        Linea_Aerea\n",
              "0           38     DA  1/2/2017  ...  Anemone Ratner    39                NaN\n",
              "1           38     UA  1/2/2017  ...  Anemone Ratner    39                NaN\n",
              "2           38     SW  1/2/2017  ...  Anemone Ratner    39          Southwest\n",
              "3           38     SW  1/2/2017  ...  Anemone Ratner    39          Southwest\n",
              "4           38     AA  1/2/2017  ...  Anemone Ratner    39  American Airlines\n",
              "\n",
              "[5 rows x 9 columns]"
            ]
          },
          "metadata": {
            "tags": []
          },
          "execution_count": 46
        }
      ]
    },
    {
      "cell_type": "markdown",
      "metadata": {
        "id": "ouFBGDrYnduo"
      },
      "source": [
        "Ahora hay que cambiar los elementos vacios (NaN) por la leyenda 'Otra'."
      ]
    },
    {
      "cell_type": "code",
      "metadata": {
        "id": "uRv-xXkVmZlp"
      },
      "source": [
        "InfoUnificada.fillna('Otra',inplace=True)"
      ],
      "execution_count": 47,
      "outputs": []
    },
    {
      "cell_type": "markdown",
      "metadata": {
        "id": "YIlyabBvngV9"
      },
      "source": [
        "Comprobamos el resultado."
      ]
    },
    {
      "cell_type": "code",
      "metadata": {
        "id": "w8JrqOxjdA3f",
        "colab": {
          "base_uri": "https://localhost:8080/",
          "height": 197
        },
        "outputId": "f669dac4-b87f-4d55-86f9-3feb2601ef1c"
      },
      "source": [
        "InfoUnificada.head()"
      ],
      "execution_count": 48,
      "outputs": [
        {
          "output_type": "execute_result",
          "data": {
            "text/html": [
              "<div>\n",
              "<style scoped>\n",
              "    .dataframe tbody tr th:only-of-type {\n",
              "        vertical-align: middle;\n",
              "    }\n",
              "\n",
              "    .dataframe tbody tr th {\n",
              "        vertical-align: top;\n",
              "    }\n",
              "\n",
              "    .dataframe thead th {\n",
              "        text-align: right;\n",
              "    }\n",
              "</style>\n",
              "<table border=\"1\" class=\"dataframe\">\n",
              "  <thead>\n",
              "    <tr style=\"text-align: right;\">\n",
              "      <th></th>\n",
              "      <th>ID_Pasajero</th>\n",
              "      <th>Cve_LA</th>\n",
              "      <th>Viaje</th>\n",
              "      <th>Clase</th>\n",
              "      <th>Precio</th>\n",
              "      <th>Ruta</th>\n",
              "      <th>Pasajero</th>\n",
              "      <th>Edad</th>\n",
              "      <th>Linea_Aerea</th>\n",
              "    </tr>\n",
              "  </thead>\n",
              "  <tbody>\n",
              "    <tr>\n",
              "      <th>0</th>\n",
              "      <td>38</td>\n",
              "      <td>DA</td>\n",
              "      <td>1/2/2017</td>\n",
              "      <td>Economy</td>\n",
              "      <td>84</td>\n",
              "      <td>DAL-AUS</td>\n",
              "      <td>Anemone Ratner</td>\n",
              "      <td>39</td>\n",
              "      <td>Otra</td>\n",
              "    </tr>\n",
              "    <tr>\n",
              "      <th>1</th>\n",
              "      <td>38</td>\n",
              "      <td>UA</td>\n",
              "      <td>1/2/2017</td>\n",
              "      <td>Economy</td>\n",
              "      <td>78</td>\n",
              "      <td>DAL-PHX</td>\n",
              "      <td>Anemone Ratner</td>\n",
              "      <td>39</td>\n",
              "      <td>Otra</td>\n",
              "    </tr>\n",
              "    <tr>\n",
              "      <th>2</th>\n",
              "      <td>38</td>\n",
              "      <td>SW</td>\n",
              "      <td>1/2/2017</td>\n",
              "      <td>Business</td>\n",
              "      <td>102</td>\n",
              "      <td>DAL-SEA</td>\n",
              "      <td>Anemone Ratner</td>\n",
              "      <td>39</td>\n",
              "      <td>Southwest</td>\n",
              "    </tr>\n",
              "    <tr>\n",
              "      <th>3</th>\n",
              "      <td>38</td>\n",
              "      <td>SW</td>\n",
              "      <td>1/2/2017</td>\n",
              "      <td>First Class</td>\n",
              "      <td>222</td>\n",
              "      <td>DAL-HOU</td>\n",
              "      <td>Anemone Ratner</td>\n",
              "      <td>39</td>\n",
              "      <td>Southwest</td>\n",
              "    </tr>\n",
              "    <tr>\n",
              "      <th>4</th>\n",
              "      <td>38</td>\n",
              "      <td>AA</td>\n",
              "      <td>1/2/2017</td>\n",
              "      <td>Economy</td>\n",
              "      <td>104</td>\n",
              "      <td>DAL-OKC</td>\n",
              "      <td>Anemone Ratner</td>\n",
              "      <td>39</td>\n",
              "      <td>American Airlines</td>\n",
              "    </tr>\n",
              "  </tbody>\n",
              "</table>\n",
              "</div>"
            ],
            "text/plain": [
              "   ID_Pasajero Cve_LA     Viaje  ...        Pasajero  Edad        Linea_Aerea\n",
              "0           38     DA  1/2/2017  ...  Anemone Ratner    39               Otra\n",
              "1           38     UA  1/2/2017  ...  Anemone Ratner    39               Otra\n",
              "2           38     SW  1/2/2017  ...  Anemone Ratner    39          Southwest\n",
              "3           38     SW  1/2/2017  ...  Anemone Ratner    39          Southwest\n",
              "4           38     AA  1/2/2017  ...  Anemone Ratner    39  American Airlines\n",
              "\n",
              "[5 rows x 9 columns]"
            ]
          },
          "metadata": {
            "tags": []
          },
          "execution_count": 48
        }
      ]
    },
    {
      "cell_type": "markdown",
      "metadata": {
        "id": "TLv3fSIVnkeN"
      },
      "source": [
        "Guardamos esta tabla como medida preventiva."
      ]
    },
    {
      "cell_type": "code",
      "metadata": {
        "id": "TOinIAxxkkXE"
      },
      "source": [
        "InfoUnificada.to_csv('infoUnificada.csv')"
      ],
      "execution_count": 49,
      "outputs": []
    },
    {
      "cell_type": "markdown",
      "metadata": {
        "id": "ws4R_I_poOPI"
      },
      "source": [
        "El paso siguiente es quitar las columnas que no se estan solicitando."
      ]
    },
    {
      "cell_type": "code",
      "metadata": {
        "id": "XKWqyrYNoVI1"
      },
      "source": [
        "InfoUnificada.drop(columns=['ID_Pasajero','Cve_LA','Pasajero'], inplace=True)"
      ],
      "execution_count": 54,
      "outputs": []
    },
    {
      "cell_type": "markdown",
      "metadata": {
        "id": "6IQPAfP1o0Rd"
      },
      "source": [
        "Comprobamos el resultado."
      ]
    },
    {
      "cell_type": "code",
      "metadata": {
        "colab": {
          "base_uri": "https://localhost:8080/",
          "height": 197
        },
        "id": "I7Sy7I89oyYg",
        "outputId": "1420994d-9fbb-4d51-f5ca-6bbde467667c"
      },
      "source": [
        "InfoUnificada.head()"
      ],
      "execution_count": 55,
      "outputs": [
        {
          "output_type": "execute_result",
          "data": {
            "text/html": [
              "<div>\n",
              "<style scoped>\n",
              "    .dataframe tbody tr th:only-of-type {\n",
              "        vertical-align: middle;\n",
              "    }\n",
              "\n",
              "    .dataframe tbody tr th {\n",
              "        vertical-align: top;\n",
              "    }\n",
              "\n",
              "    .dataframe thead th {\n",
              "        text-align: right;\n",
              "    }\n",
              "</style>\n",
              "<table border=\"1\" class=\"dataframe\">\n",
              "  <thead>\n",
              "    <tr style=\"text-align: right;\">\n",
              "      <th></th>\n",
              "      <th>Viaje</th>\n",
              "      <th>Clase</th>\n",
              "      <th>Precio</th>\n",
              "      <th>Ruta</th>\n",
              "      <th>Edad</th>\n",
              "      <th>Linea_Aerea</th>\n",
              "    </tr>\n",
              "  </thead>\n",
              "  <tbody>\n",
              "    <tr>\n",
              "      <th>0</th>\n",
              "      <td>1/2/2017</td>\n",
              "      <td>Economy</td>\n",
              "      <td>84</td>\n",
              "      <td>DAL-AUS</td>\n",
              "      <td>39</td>\n",
              "      <td>Otra</td>\n",
              "    </tr>\n",
              "    <tr>\n",
              "      <th>1</th>\n",
              "      <td>1/2/2017</td>\n",
              "      <td>Economy</td>\n",
              "      <td>78</td>\n",
              "      <td>DAL-PHX</td>\n",
              "      <td>39</td>\n",
              "      <td>Otra</td>\n",
              "    </tr>\n",
              "    <tr>\n",
              "      <th>2</th>\n",
              "      <td>1/2/2017</td>\n",
              "      <td>Business</td>\n",
              "      <td>102</td>\n",
              "      <td>DAL-SEA</td>\n",
              "      <td>39</td>\n",
              "      <td>Southwest</td>\n",
              "    </tr>\n",
              "    <tr>\n",
              "      <th>3</th>\n",
              "      <td>1/2/2017</td>\n",
              "      <td>First Class</td>\n",
              "      <td>222</td>\n",
              "      <td>DAL-HOU</td>\n",
              "      <td>39</td>\n",
              "      <td>Southwest</td>\n",
              "    </tr>\n",
              "    <tr>\n",
              "      <th>4</th>\n",
              "      <td>1/2/2017</td>\n",
              "      <td>Economy</td>\n",
              "      <td>104</td>\n",
              "      <td>DAL-OKC</td>\n",
              "      <td>39</td>\n",
              "      <td>American Airlines</td>\n",
              "    </tr>\n",
              "  </tbody>\n",
              "</table>\n",
              "</div>"
            ],
            "text/plain": [
              "      Viaje        Clase  Precio     Ruta  Edad        Linea_Aerea\n",
              "0  1/2/2017      Economy      84  DAL-AUS    39               Otra\n",
              "1  1/2/2017      Economy      78  DAL-PHX    39               Otra\n",
              "2  1/2/2017     Business     102  DAL-SEA    39          Southwest\n",
              "3  1/2/2017  First Class     222  DAL-HOU    39          Southwest\n",
              "4  1/2/2017      Economy     104  DAL-OKC    39  American Airlines"
            ]
          },
          "metadata": {
            "tags": []
          },
          "execution_count": 55
        }
      ]
    },
    {
      "cell_type": "markdown",
      "metadata": {
        "id": "tUgDwOtgo7JC"
      },
      "source": [
        "Aquí se nos pide contestar a las siguientes preguntas:\n",
        "- ¿Qué tipo de proceso consideraste para unir los datos que se piden?\n",
        "  - En este caso se utilizó el método *merge*.\n",
        "- ¿Qué columnas utilizaste para lograr esa relación?\n",
        "  - Aquí se tomaron en cuenta las columnas de la clave de la aerolínea.\n",
        "- ¿Qué tipo de unión utilizaste para unir los datos? \n",
        "  - Se utilizó una union por izquierda.\n",
        "- ¿Qué tipo de proceso utilizaste para dejar únicamente las columnas que se piden?\n",
        "  - El método *drop* fue el que se utilizó para dejar solo las columnas solicitadas.\n"
      ]
    },
    {
      "cell_type": "markdown",
      "metadata": {
        "id": "OEF2rHxTpwYi"
      },
      "source": [
        "##5.- Realizar un promedio semestral."
      ]
    },
    {
      "cell_type": "markdown",
      "metadata": {
        "id": "4DHrR6wQp8-Z"
      },
      "source": [
        "En este paso se nos pide realizar un promedio semestral utilizando las columnas 'Año', 'Clase', 'Ruta y 'Linea Aerea'. Para lo cual se determino que la columna que contiene las fechas de los viajes sería de utilidad, por lo que se procede a trabajar sobre la misma. Para poder manipular las fechas de manera más práctica se utilizará la librería de *datatime*. El primer paso es comprobar el tipo de datos que se tiene en la columna de 'Viaje'."
      ]
    },
    {
      "cell_type": "code",
      "metadata": {
        "colab": {
          "base_uri": "https://localhost:8080/"
        },
        "id": "kOXN1ejUrNx1",
        "outputId": "6e0e5286-6ded-4b6b-ae6b-39c52a227449"
      },
      "source": [
        "type(InfoUnificada['Viaje'])\n"
      ],
      "execution_count": 58,
      "outputs": [
        {
          "output_type": "execute_result",
          "data": {
            "text/plain": [
              "pandas.core.series.Series"
            ]
          },
          "metadata": {
            "tags": []
          },
          "execution_count": 58
        }
      ]
    },
    {
      "cell_type": "code",
      "metadata": {
        "colab": {
          "base_uri": "https://localhost:8080/"
        },
        "id": "bO1EeuLtrAI4",
        "outputId": "e21a6742-e3ab-4b91-a86b-3745d54ad078"
      },
      "source": [
        "type(InfoUnificada['Viaje'][0])"
      ],
      "execution_count": 59,
      "outputs": [
        {
          "output_type": "execute_result",
          "data": {
            "text/plain": [
              "str"
            ]
          },
          "metadata": {
            "tags": []
          },
          "execution_count": 59
        }
      ]
    },
    {
      "cell_type": "markdown",
      "metadata": {
        "id": "CQddy8YgrHII"
      },
      "source": [
        "Como el tipo de datos de dicha columna es el de *str* hace falta cambiarlo al tipo de datos *Timestamp* para trabajar de manera más eficiente. Para lo cual se aplica la siguiente función:"
      ]
    },
    {
      "cell_type": "code",
      "metadata": {
        "id": "VnqzjzsTzbua"
      },
      "source": [
        "InfoUnificada['Viaje'] = InfoUnificada['Viaje'].apply(lambda x: datetime.strptime(x,'%m/%d/%Y'))"
      ],
      "execution_count": 60,
      "outputs": []
    },
    {
      "cell_type": "markdown",
      "metadata": {
        "id": "mey_m85brfGF"
      },
      "source": [
        "Con esta función tomamos cada valor de la columna 'Viaje', le aplicacmos la función *strptime* de la librería *datatime* para que lo convierta en el tipo de datos esperado."
      ]
    },
    {
      "cell_type": "markdown",
      "metadata": {
        "id": "S1XyLlRZryLj"
      },
      "source": [
        "Comprobamos el resultado"
      ]
    },
    {
      "cell_type": "code",
      "metadata": {
        "colab": {
          "base_uri": "https://localhost:8080/"
        },
        "id": "C1F5q04krz5k",
        "outputId": "1c42bbd2-f69e-400f-a335-733649683663"
      },
      "source": [
        "type(InfoUnificada['Viaje'][0])"
      ],
      "execution_count": 61,
      "outputs": [
        {
          "output_type": "execute_result",
          "data": {
            "text/plain": [
              "pandas._libs.tslibs.timestamps.Timestamp"
            ]
          },
          "metadata": {
            "tags": []
          },
          "execution_count": 61
        }
      ]
    },
    {
      "cell_type": "markdown",
      "metadata": {
        "id": "58MNF77Tr8TE"
      },
      "source": [
        "Con este tipo de datos podemos obtener fechas de manera mucho más sencilla."
      ]
    },
    {
      "cell_type": "code",
      "metadata": {
        "colab": {
          "base_uri": "https://localhost:8080/"
        },
        "id": "Wdf0S4M11Vhs",
        "outputId": "9966b5cf-1ef7-4a7d-b7b2-652306152d7f"
      },
      "source": [
        "InfoUnificada['Viaje'][0].year"
      ],
      "execution_count": 66,
      "outputs": [
        {
          "output_type": "execute_result",
          "data": {
            "text/plain": [
              "2017"
            ]
          },
          "metadata": {
            "tags": []
          },
          "execution_count": 66
        }
      ]
    },
    {
      "cell_type": "markdown",
      "metadata": {
        "id": "tr25rDZvsG3x"
      },
      "source": [
        "Teniendo las columnas con el tipo de datos deseado, se procede a creer las columnas faltantes para hacer el analisis"
      ]
    },
    {
      "cell_type": "code",
      "metadata": {
        "id": "X0Ydlpw32KP3"
      },
      "source": [
        "InfoUnificada['Año'] = InfoUnificada['Viaje'].apply(lambda x: x.year)"
      ],
      "execution_count": 67,
      "outputs": []
    },
    {
      "cell_type": "code",
      "metadata": {
        "id": "Ua0q8z95sR8D"
      },
      "source": [
        "InfoUnificada['Semestre'] = InfoUnificada['Viaje'].apply(lambda x: 'Ene - Jun' if (x.month < 7) else 'Jul - Dic')"
      ],
      "execution_count": 68,
      "outputs": []
    },
    {
      "cell_type": "markdown",
      "metadata": {
        "id": "LP1Ro7l8uWHj"
      },
      "source": [
        "Comprobamos el resultado."
      ]
    },
    {
      "cell_type": "code",
      "metadata": {
        "colab": {
          "base_uri": "https://localhost:8080/",
          "height": 197
        },
        "id": "NssVlj2a4ED2",
        "outputId": "18d7829b-52e1-4d26-89ae-dcf6f23348ac"
      },
      "source": [
        "InfoUnificada.head()"
      ],
      "execution_count": 69,
      "outputs": [
        {
          "output_type": "execute_result",
          "data": {
            "text/html": [
              "<div>\n",
              "<style scoped>\n",
              "    .dataframe tbody tr th:only-of-type {\n",
              "        vertical-align: middle;\n",
              "    }\n",
              "\n",
              "    .dataframe tbody tr th {\n",
              "        vertical-align: top;\n",
              "    }\n",
              "\n",
              "    .dataframe thead th {\n",
              "        text-align: right;\n",
              "    }\n",
              "</style>\n",
              "<table border=\"1\" class=\"dataframe\">\n",
              "  <thead>\n",
              "    <tr style=\"text-align: right;\">\n",
              "      <th></th>\n",
              "      <th>Viaje</th>\n",
              "      <th>Clase</th>\n",
              "      <th>Precio</th>\n",
              "      <th>Ruta</th>\n",
              "      <th>Edad</th>\n",
              "      <th>Linea_Aerea</th>\n",
              "      <th>Año</th>\n",
              "      <th>Semestre</th>\n",
              "    </tr>\n",
              "  </thead>\n",
              "  <tbody>\n",
              "    <tr>\n",
              "      <th>0</th>\n",
              "      <td>2017-01-02</td>\n",
              "      <td>Economy</td>\n",
              "      <td>84</td>\n",
              "      <td>DAL-AUS</td>\n",
              "      <td>39</td>\n",
              "      <td>Otra</td>\n",
              "      <td>2017</td>\n",
              "      <td>Ene - Jun</td>\n",
              "    </tr>\n",
              "    <tr>\n",
              "      <th>1</th>\n",
              "      <td>2017-01-02</td>\n",
              "      <td>Economy</td>\n",
              "      <td>78</td>\n",
              "      <td>DAL-PHX</td>\n",
              "      <td>39</td>\n",
              "      <td>Otra</td>\n",
              "      <td>2017</td>\n",
              "      <td>Ene - Jun</td>\n",
              "    </tr>\n",
              "    <tr>\n",
              "      <th>2</th>\n",
              "      <td>2017-01-02</td>\n",
              "      <td>Business</td>\n",
              "      <td>102</td>\n",
              "      <td>DAL-SEA</td>\n",
              "      <td>39</td>\n",
              "      <td>Southwest</td>\n",
              "      <td>2017</td>\n",
              "      <td>Ene - Jun</td>\n",
              "    </tr>\n",
              "    <tr>\n",
              "      <th>3</th>\n",
              "      <td>2017-01-02</td>\n",
              "      <td>First Class</td>\n",
              "      <td>222</td>\n",
              "      <td>DAL-HOU</td>\n",
              "      <td>39</td>\n",
              "      <td>Southwest</td>\n",
              "      <td>2017</td>\n",
              "      <td>Ene - Jun</td>\n",
              "    </tr>\n",
              "    <tr>\n",
              "      <th>4</th>\n",
              "      <td>2017-01-02</td>\n",
              "      <td>Economy</td>\n",
              "      <td>104</td>\n",
              "      <td>DAL-OKC</td>\n",
              "      <td>39</td>\n",
              "      <td>American Airlines</td>\n",
              "      <td>2017</td>\n",
              "      <td>Ene - Jun</td>\n",
              "    </tr>\n",
              "  </tbody>\n",
              "</table>\n",
              "</div>"
            ],
            "text/plain": [
              "       Viaje        Clase  Precio  ...        Linea_Aerea   Año   Semestre\n",
              "0 2017-01-02      Economy      84  ...               Otra  2017  Ene - Jun\n",
              "1 2017-01-02      Economy      78  ...               Otra  2017  Ene - Jun\n",
              "2 2017-01-02     Business     102  ...          Southwest  2017  Ene - Jun\n",
              "3 2017-01-02  First Class     222  ...          Southwest  2017  Ene - Jun\n",
              "4 2017-01-02      Economy     104  ...  American Airlines  2017  Ene - Jun\n",
              "\n",
              "[5 rows x 8 columns]"
            ]
          },
          "metadata": {
            "tags": []
          },
          "execution_count": 69
        }
      ]
    },
    {
      "cell_type": "markdown",
      "metadata": {
        "id": "3-PNcSMmuYXG"
      },
      "source": [
        "Y por ultimo se realiza el analisis solicitado."
      ]
    },
    {
      "cell_type": "code",
      "metadata": {
        "colab": {
          "base_uri": "https://localhost:8080/",
          "height": 677
        },
        "id": "3fvlB-MylooP",
        "outputId": "6618ab69-895c-47ac-d65a-6462989c39db"
      },
      "source": [
        "UnificadaPorClase = InfoUnificada.groupby(['Clase','Ruta','Linea_Aerea','Año','Semestre']).agg({'Precio':\"mean\"})\n",
        "UnificadaPorClase.head(20)\n"
      ],
      "execution_count": 71,
      "outputs": [
        {
          "output_type": "execute_result",
          "data": {
            "text/html": [
              "<div>\n",
              "<style scoped>\n",
              "    .dataframe tbody tr th:only-of-type {\n",
              "        vertical-align: middle;\n",
              "    }\n",
              "\n",
              "    .dataframe tbody tr th {\n",
              "        vertical-align: top;\n",
              "    }\n",
              "\n",
              "    .dataframe thead th {\n",
              "        text-align: right;\n",
              "    }\n",
              "</style>\n",
              "<table border=\"1\" class=\"dataframe\">\n",
              "  <thead>\n",
              "    <tr style=\"text-align: right;\">\n",
              "      <th></th>\n",
              "      <th></th>\n",
              "      <th></th>\n",
              "      <th></th>\n",
              "      <th></th>\n",
              "      <th>Precio</th>\n",
              "    </tr>\n",
              "    <tr>\n",
              "      <th>Clase</th>\n",
              "      <th>Ruta</th>\n",
              "      <th>Linea_Aerea</th>\n",
              "      <th>Año</th>\n",
              "      <th>Semestre</th>\n",
              "      <th></th>\n",
              "    </tr>\n",
              "  </thead>\n",
              "  <tbody>\n",
              "    <tr>\n",
              "      <th rowspan=\"20\" valign=\"top\">Business</th>\n",
              "      <th rowspan=\"9\" valign=\"top\">DAL-AMA</th>\n",
              "      <th rowspan=\"2\" valign=\"top\">Aeromexico</th>\n",
              "      <th rowspan=\"2\" valign=\"top\">2017</th>\n",
              "      <th>Ene - Jun</th>\n",
              "      <td>146.0</td>\n",
              "    </tr>\n",
              "    <tr>\n",
              "      <th>Jul - Dic</th>\n",
              "      <td>204.0</td>\n",
              "    </tr>\n",
              "    <tr>\n",
              "      <th rowspan=\"2\" valign=\"top\">American Airlines</th>\n",
              "      <th rowspan=\"2\" valign=\"top\">2016</th>\n",
              "      <th>Ene - Jun</th>\n",
              "      <td>58.0</td>\n",
              "    </tr>\n",
              "    <tr>\n",
              "      <th>Jul - Dic</th>\n",
              "      <td>186.0</td>\n",
              "    </tr>\n",
              "    <tr>\n",
              "      <th rowspan=\"2\" valign=\"top\">Avianca</th>\n",
              "      <th>2016</th>\n",
              "      <th>Ene - Jun</th>\n",
              "      <td>132.0</td>\n",
              "    </tr>\n",
              "    <tr>\n",
              "      <th>2017</th>\n",
              "      <th>Jul - Dic</th>\n",
              "      <td>206.0</td>\n",
              "    </tr>\n",
              "    <tr>\n",
              "      <th rowspan=\"2\" valign=\"top\">KLM</th>\n",
              "      <th>2016</th>\n",
              "      <th>Ene - Jun</th>\n",
              "      <td>184.0</td>\n",
              "    </tr>\n",
              "    <tr>\n",
              "      <th>2017</th>\n",
              "      <th>Jul - Dic</th>\n",
              "      <td>121.0</td>\n",
              "    </tr>\n",
              "    <tr>\n",
              "      <th>Southwest</th>\n",
              "      <th>2017</th>\n",
              "      <th>Ene - Jun</th>\n",
              "      <td>163.0</td>\n",
              "    </tr>\n",
              "    <tr>\n",
              "      <th rowspan=\"9\" valign=\"top\">DAL-ATL</th>\n",
              "      <th rowspan=\"2\" valign=\"top\">Aeromexico</th>\n",
              "      <th>2016</th>\n",
              "      <th>Ene - Jun</th>\n",
              "      <td>218.0</td>\n",
              "    </tr>\n",
              "    <tr>\n",
              "      <th>2017</th>\n",
              "      <th>Jul - Dic</th>\n",
              "      <td>201.0</td>\n",
              "    </tr>\n",
              "    <tr>\n",
              "      <th rowspan=\"2\" valign=\"top\">American Airlines</th>\n",
              "      <th rowspan=\"2\" valign=\"top\">2016</th>\n",
              "      <th>Ene - Jun</th>\n",
              "      <td>102.0</td>\n",
              "    </tr>\n",
              "    <tr>\n",
              "      <th>Jul - Dic</th>\n",
              "      <td>135.0</td>\n",
              "    </tr>\n",
              "    <tr>\n",
              "      <th>Avianca</th>\n",
              "      <th>2016</th>\n",
              "      <th>Jul - Dic</th>\n",
              "      <td>107.0</td>\n",
              "    </tr>\n",
              "    <tr>\n",
              "      <th rowspan=\"2\" valign=\"top\">KLM</th>\n",
              "      <th>2016</th>\n",
              "      <th>Jul - Dic</th>\n",
              "      <td>227.0</td>\n",
              "    </tr>\n",
              "    <tr>\n",
              "      <th>2017</th>\n",
              "      <th>Ene - Jun</th>\n",
              "      <td>167.0</td>\n",
              "    </tr>\n",
              "    <tr>\n",
              "      <th rowspan=\"2\" valign=\"top\">Southwest</th>\n",
              "      <th>2016</th>\n",
              "      <th>Jul - Dic</th>\n",
              "      <td>185.0</td>\n",
              "    </tr>\n",
              "    <tr>\n",
              "      <th>2017</th>\n",
              "      <th>Ene - Jun</th>\n",
              "      <td>131.5</td>\n",
              "    </tr>\n",
              "    <tr>\n",
              "      <th rowspan=\"2\" valign=\"top\">DAL-AUS</th>\n",
              "      <th rowspan=\"2\" valign=\"top\">Aeromexico</th>\n",
              "      <th>2016</th>\n",
              "      <th>Ene - Jun</th>\n",
              "      <td>250.0</td>\n",
              "    </tr>\n",
              "    <tr>\n",
              "      <th>2017</th>\n",
              "      <th>Jul - Dic</th>\n",
              "      <td>122.0</td>\n",
              "    </tr>\n",
              "  </tbody>\n",
              "</table>\n",
              "</div>"
            ],
            "text/plain": [
              "                                                   Precio\n",
              "Clase    Ruta    Linea_Aerea       Año  Semestre         \n",
              "Business DAL-AMA Aeromexico        2017 Ene - Jun   146.0\n",
              "                                        Jul - Dic   204.0\n",
              "                 American Airlines 2016 Ene - Jun    58.0\n",
              "                                        Jul - Dic   186.0\n",
              "                 Avianca           2016 Ene - Jun   132.0\n",
              "                                   2017 Jul - Dic   206.0\n",
              "                 KLM               2016 Ene - Jun   184.0\n",
              "                                   2017 Jul - Dic   121.0\n",
              "                 Southwest         2017 Ene - Jun   163.0\n",
              "         DAL-ATL Aeromexico        2016 Ene - Jun   218.0\n",
              "                                   2017 Jul - Dic   201.0\n",
              "                 American Airlines 2016 Ene - Jun   102.0\n",
              "                                        Jul - Dic   135.0\n",
              "                 Avianca           2016 Jul - Dic   107.0\n",
              "                 KLM               2016 Jul - Dic   227.0\n",
              "                                   2017 Ene - Jun   167.0\n",
              "                 Southwest         2016 Jul - Dic   185.0\n",
              "                                   2017 Ene - Jun   131.5\n",
              "         DAL-AUS Aeromexico        2016 Ene - Jun   250.0\n",
              "                                   2017 Jul - Dic   122.0"
            ]
          },
          "metadata": {
            "tags": []
          },
          "execution_count": 71
        }
      ]
    }
  ]
}